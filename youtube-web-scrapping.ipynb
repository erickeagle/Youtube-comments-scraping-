{
 "cells": [
  {
   "cell_type": "code",
   "execution_count": 2,
   "id": "f9f32ddd",
   "metadata": {},
   "outputs": [],
   "source": [
    "import urllib\n",
    "import time\n",
    "import json\n",
    "import pandas as pd\n",
    "from tqdm import tqdm\n",
    "from time import sleep\n",
    "from selenium import webdriver\n",
    "from selenium.webdriver.common.by import By\n",
    "from selenium.webdriver.support.ui import WebDriverWait\n",
    "from selenium.webdriver.support import expected_conditions as EC\n",
    "from selenium.common.exceptions import TimeoutException\n",
    "from bs4 import BeautifulSoup\n",
    "from selenium.common.exceptions import ElementClickInterceptedException\n",
    "from selenium.common.exceptions import NoSuchElementException\n",
    "from selenium.common.exceptions import InvalidArgumentException\n",
    "import sys, unittest, time, datetime\n",
    "import urllib.request, urllib.error, urllib.parse"
   ]
  },
  {
   "cell_type": "code",
   "execution_count": null,
   "id": "0cc3ed90",
   "metadata": {},
   "outputs": [],
   "source": []
  },
  {
   "cell_type": "code",
   "execution_count": 3,
   "id": "68dedeaa",
   "metadata": {},
   "outputs": [
    {
     "name": "stdout",
     "output_type": "stream",
     "text": [
      "https://www.youtube.com/watch?v=vY8rS0x1VDE\n",
      "https://www.youtube.com/watch?v=8PRkR9Fl2lA\n",
      "https://www.youtube.com/watch?v=7plcQ0wdWQY\n",
      "https://www.youtube.com/watch?v=8XTeqM2MUXs\n",
      "https://www.youtube.com/watch?v=ZZeLRt4zvB8\n",
      "https://www.youtube.com/watch?v=r-W1h4Y_oVM\n",
      "https://www.youtube.com/watch?v=V2ymuelT3Ec\n",
      "https://www.youtube.com/watch?v=Uv3tUueaDa0\n",
      "https://www.youtube.com/watch?v=GVu36rlz1Is\n",
      "https://www.youtube.com/watch?v=FAjoPtjsk6Q\n",
      "https://www.youtube.com/watch?v=3wAjzF1TVOk\n",
      "https://www.youtube.com/watch?v=VOqHUQ9_YFI\n",
      "https://www.youtube.com/watch?v=U8iXyi_VSuQ\n",
      "https://www.youtube.com/watch?v=bKlGETTIam8\n",
      "https://www.youtube.com/watch?v=b6WvYSsNeQk\n",
      "https://www.youtube.com/watch?v=xsRtQ9Zzmas\n",
      "https://www.youtube.com/watch?v=tmpaaI1s2Y0\n",
      "https://www.youtube.com/watch?v=llJvJVNZ4KQ\n",
      "https://www.youtube.com/watch?v=m5aLPICp7m0\n",
      "https://www.youtube.com/watch?v=n0v31TyGS0E\n",
      "https://www.youtube.com/watch?v=lNwfU94_JEs\n",
      "https://www.youtube.com/watch?v=mHJKmiDWq3A\n",
      "https://www.youtube.com/watch?v=dJUq0QuUVx0\n",
      "https://www.youtube.com/watch?v=XexKfe2PXfM\n",
      "https://www.youtube.com/watch?v=TQErZbQ7bRc\n",
      "https://www.youtube.com/watch?v=vOT6X6FRrTI\n",
      "https://www.youtube.com/watch?v=EXqa_ml4Ju8\n",
      "https://www.youtube.com/watch?v=LdyhqZEC2EA\n",
      "https://www.youtube.com/watch?v=LgKOkkT8dCw\n",
      "https://www.youtube.com/watch?v=-FYvtZrRo54\n",
      "https://www.youtube.com/watch?v=qGm2-B53guk\n",
      "https://www.youtube.com/watch?v=AUfMYX3hmvw\n",
      "https://www.youtube.com/watch?v=pW3ONQIheew\n",
      "https://www.youtube.com/watch?v=NxCoTT36E-o\n",
      "https://www.youtube.com/watch?v=biqgb4tf9MA\n",
      "https://www.youtube.com/watch?v=XWu3ZruHgjQ\n",
      "https://www.youtube.com/watch?v=TElsd9xFb3g\n",
      "https://www.youtube.com/watch?v=psD8Fz3_ZFo\n",
      "https://www.youtube.com/watch?v=rOZPypYMJLg\n",
      "https://www.youtube.com/watch?v=_F_BXGZg4_U\n",
      "https://www.youtube.com/watch?v=l8eKccYCsxk\n",
      "https://www.youtube.com/watch?v=ozY4I6ZCIdg\n",
      "https://www.youtube.com/watch?v=hWkGEjVJnY8\n",
      "https://www.youtube.com/watch?v=Yv_YEy8IjRk\n",
      "https://www.youtube.com/watch?v=ZUxIroQ1esU\n",
      "https://www.youtube.com/watch?v=JhOsgUS6icQ\n",
      "https://www.youtube.com/watch?v=sOncDHXhIec\n",
      "https://www.youtube.com/watch?v=rBwghKw8r2w\n",
      "https://www.youtube.com/watch?v=dN4Qo7tkeJc\n",
      "https://www.youtube.com/watch?v=bYtsNlJTS-A\n",
      "https://www.youtube.com/watch?v=Gh9HkS_-WRg\n",
      "https://www.youtube.com/watch?v=NlVRgvRO7V8\n",
      "https://www.youtube.com/watch?v=LdsMy0pJ1OY\n",
      "https://www.youtube.com/watch?v=eVQIr-crE8E\n",
      "https://www.youtube.com/watch?v=NQxZnF_i5cU\n",
      "https://www.youtube.com/watch?v=Au_yL2nEHiE\n",
      "https://www.youtube.com/watch?v=X83cDfwtFpw\n",
      "https://www.youtube.com/watch?v=EqIQTN65IZs\n",
      "https://www.youtube.com/watch?v=jCoeeAQg3Lg\n",
      "https://www.youtube.com/watch?v=m7RbSNiYJgw\n",
      "https://www.youtube.com/watch?v=8fVEMdHKmqM\n",
      "https://www.youtube.com/watch?v=XYwkqdXVEwA\n",
      "https://www.youtube.com/watch?v=XC6pFocflCI\n",
      "https://www.youtube.com/watch?v=XgIMLUIOxiY\n",
      "https://www.youtube.com/watch?v=kVwb8Ambo4U\n",
      "https://www.youtube.com/watch?v=nOs5FKbISys\n",
      "https://www.youtube.com/watch?v=uTb-OU1qp_8\n",
      "https://www.youtube.com/watch?v=H3b2rEdub8A\n",
      "https://www.youtube.com/watch?v=OZRDVw40b9E\n",
      "https://www.youtube.com/watch?v=VUAQsotJcGk\n",
      "https://www.youtube.com/watch?v=PSs2c56Vuuk\n",
      "https://www.youtube.com/watch?v=WhUfhOBKjEU\n",
      "https://www.youtube.com/watch?v=ozeljnpMffI\n",
      "https://www.youtube.com/watch?v=A0n3E1jyAuM\n",
      "https://www.youtube.com/watch?v=uUI5V9DXGkw\n",
      "https://www.youtube.com/watch?v=X8kCyM4XhsM\n",
      "https://www.youtube.com/watch?v=7m6VlY6Dlqk\n",
      "https://www.youtube.com/watch?v=a_lEMYvacIA\n",
      "https://www.youtube.com/watch?v=v8pWt1dlVIc\n",
      "https://www.youtube.com/watch?v=Un6CT2wsFGE\n",
      "https://www.youtube.com/watch?v=cWViZScbP-k\n",
      "https://www.youtube.com/watch?v=YofmRBlv6vE\n",
      "https://www.youtube.com/watch?v=YUyv61q3-B0\n",
      "https://www.youtube.com/watch?v=943Vhw6rfXQ\n",
      "https://www.youtube.com/watch?v=ZLVPYiS_Edk\n",
      "https://www.youtube.com/watch?v=kkgwCG8PRGU\n",
      "https://www.youtube.com/watch?v=2IoSQ4V6oSo\n",
      "https://www.youtube.com/watch?v=mhdbimSq4XE\n",
      "https://www.youtube.com/watch?v=3_xVAhVo2co\n",
      "https://www.youtube.com/watch?v=lAXVjo2kitk\n",
      "https://www.youtube.com/watch?v=Bszvsp1tazY\n",
      "https://www.youtube.com/watch?v=M0seB-NjoaM\n",
      "https://www.youtube.com/watch?v=hyPgLwZLezM\n",
      "https://www.youtube.com/watch?v=JOgK4KZBTcQ\n",
      "https://www.youtube.com/watch?v=OpF6TZJcpLA\n",
      "https://www.youtube.com/watch?v=c4fqFTuU3p4\n",
      "https://www.youtube.com/watch?v=3CBgmBk1rvo\n",
      "https://www.youtube.com/watch?v=KtWLGFSUbg0\n",
      "https://www.youtube.com/watch?v=iQ1lGOt9SlQ\n",
      "https://www.youtube.com/watch?v=UA2L6dN1jlU\n",
      "https://www.youtube.com/watch?v=G83OL86ojaU\n",
      "https://www.youtube.com/watch?v=v6VXQ0ffIAs\n",
      "https://www.youtube.com/watch?v=HZ2BbisBwf0\n",
      "https://www.youtube.com/watch?v=Ar6hSITP-w4\n",
      "https://www.youtube.com/watch?v=A97paK3yryo\n",
      "https://www.youtube.com/watch?v=xihR5eKI2B4\n",
      "https://www.youtube.com/watch?v=TFN_DXL14D4\n",
      "https://www.youtube.com/watch?v=8qn7zRZMEN8\n",
      "https://www.youtube.com/watch?v=l5ef7TZbCXY\n",
      "https://www.youtube.com/watch?v=jSmmY8VIq-I\n",
      "https://www.youtube.com/watch?v=6AdVJIuz8JA\n",
      "https://www.youtube.com/watch?v=uJan469HPp4\n",
      "https://www.youtube.com/watch?v=DV10Byr79fc\n",
      "https://www.youtube.com/watch?v=vQ7IEtNcZN4\n",
      "https://www.youtube.com/watch?v=IkNu3ccAh_M\n",
      "https://www.youtube.com/watch?v=jLbYXOyUvFo\n",
      "https://www.youtube.com/watch?v=kJdta28q7vg\n",
      "https://www.youtube.com/watch?v=BsMdZI1v86Y\n",
      "https://www.youtube.com/watch?v=uDiVZVhDL8Q\n",
      "https://www.youtube.com/watch?v=ufGN2AMkyj0\n",
      "https://www.youtube.com/watch?v=BGKkQ5OE7fg\n",
      "https://www.youtube.com/watch?v=Rz9Esp8oWw0\n",
      "https://www.youtube.com/watch?v=UrckZng5Ag8\n",
      "https://www.youtube.com/watch?v=nGEyElk8IC4\n",
      "https://www.youtube.com/watch?v=XTh1e3g2Ls8\n",
      "https://www.youtube.com/watch?v=Jy2Uyso8A20\n",
      "https://www.youtube.com/watch?v=8abSWJVzEkE\n",
      "https://www.youtube.com/watch?v=ZtOJsdRNaqA\n",
      "https://www.youtube.com/watch?v=Yi3oOpmb6aU\n",
      "https://www.youtube.com/watch?v=lfbq_f0rRa8\n",
      "https://www.youtube.com/watch?v=Ds0RHHNvZ60\n",
      "https://www.youtube.com/watch?v=bewjcH1A-yE\n",
      "https://www.youtube.com/watch?v=g2BXIb6E5cI\n",
      "https://www.youtube.com/watch?v=HCpmbhS2kBs\n",
      "https://www.youtube.com/watch?v=Xu5x-vn8J6M\n",
      "https://www.youtube.com/watch?v=ozK39v9KneY\n",
      "https://www.youtube.com/watch?v=QMoOr4ZxZrU\n",
      "https://www.youtube.com/watch?v=UV7Y8P8NdK8\n",
      "https://www.youtube.com/watch?v=EJB2y06lqtI\n",
      "https://www.youtube.com/watch?v=JZ4UQIcDNTg\n",
      "https://www.youtube.com/watch?v=n4Vm1lf6PlU\n",
      "https://www.youtube.com/watch?v=QogyEMIW-yQ\n",
      "https://www.youtube.com/watch?v=IhxRpKc2UaY\n",
      "https://www.youtube.com/watch?v=Jdc99GyJJ_Y\n",
      "https://www.youtube.com/watch?v=_pm0LsMQhcg\n",
      "https://www.youtube.com/watch?v=7_9TePp1DGU\n",
      "https://www.youtube.com/watch?v=jPQncmz7cUw\n",
      "https://www.youtube.com/watch?v=QmB4GtIy0SY\n",
      "https://www.youtube.com/watch?v=rl5mVI7jEK0\n",
      "https://www.youtube.com/watch?v=ZmDvUYqtbdk\n",
      "https://www.youtube.com/watch?v=3qw-OGilHjQ\n",
      "https://www.youtube.com/watch?v=baL7OrGWlxs\n",
      "https://www.youtube.com/watch?v=t1bPLK8R86k\n",
      "https://www.youtube.com/watch?v=2EBDrDzCOTI\n",
      "https://www.youtube.com/watch?v=S92nm1CxlQg\n",
      "https://www.youtube.com/watch?v=_e6p9SvPsiY\n",
      "https://www.youtube.com/watch?v=FVn1kDtMCMc\n",
      "https://www.youtube.com/watch?v=VdPfv1up0WI\n",
      "https://www.youtube.com/watch?v=2qI1CcMa55c\n",
      "https://www.youtube.com/watch?v=NhWZFYk2H8s\n",
      "https://www.youtube.com/watch?v=xDTgziqNwSQ\n",
      "https://www.youtube.com/watch?v=Q-YJygPurPM\n",
      "https://www.youtube.com/watch?v=xTN2ktqKSBk\n",
      "https://www.youtube.com/watch?v=h0lZBdmB7dY\n",
      "https://www.youtube.com/watch?v=TomrEJdULxo\n",
      "https://www.youtube.com/watch?v=w5Ji-VEnbmc\n",
      "https://www.youtube.com/watch?v=RrgIeAVN1mQ\n",
      "https://www.youtube.com/watch?v=pud5sRDPSVQ\n",
      "https://www.youtube.com/watch?v=zkuyLylCtjU\n",
      "https://www.youtube.com/watch?v=LOkOWyJcEoE\n",
      "https://www.youtube.com/watch?v=ylc-od8jfM8\n",
      "https://www.youtube.com/watch?v=nw9vurfkR9c\n",
      "https://www.youtube.com/watch?v=99CcviQchd8\n",
      "https://www.youtube.com/watch?v=qlui6pu_U2Y\n",
      "https://www.youtube.com/watch?v=Lie2H3QlJ_Y\n",
      "https://www.youtube.com/watch?v=5WXwzyz4W-8\n",
      "https://www.youtube.com/watch?v=mBpaH16mgd4\n",
      "https://www.youtube.com/watch?v=yvMJh6f3piE\n",
      "https://www.youtube.com/watch?v=BjN95ZK3Igc\n",
      "https://www.youtube.com/watch?v=DcirMIhfiXs\n",
      "https://www.youtube.com/watch?v=N9IIOfPb1hk\n",
      "https://www.youtube.com/watch?v=3D_UtHKubXs\n",
      "https://www.youtube.com/watch?v=WJRhB39BxWQ\n",
      "https://www.youtube.com/watch?v=v2jffErQE4E\n",
      "https://www.youtube.com/watch?v=vCecJWz3Qm8\n",
      "https://www.youtube.com/watch?v=huDnMnoTuCE\n",
      "https://www.youtube.com/watch?v=w54b0Z9HvUA\n",
      "https://www.youtube.com/watch?v=fXRbnSWJVJY\n",
      "https://www.youtube.com/watch?v=p1vEUy_G9sw\n",
      "https://www.youtube.com/watch?v=DQuS_cZg2wI\n",
      "https://www.youtube.com/watch?v=krTHVKkUEYw\n",
      "https://www.youtube.com/watch?v=aagMarhcSww\n",
      "https://www.youtube.com/watch?v=GVECbcKUio4\n",
      "https://www.youtube.com/watch?v=ejT7oNtySbo\n",
      "https://www.youtube.com/watch?v=jcbHc7IFlzA\n",
      "https://www.youtube.com/watch?v=jo8XTr_FIlI\n",
      "https://www.youtube.com/watch?v=UBDCFrLyFbU\n",
      "https://www.youtube.com/watch?v=YOu2wMMvYKg\n",
      "https://www.youtube.com/watch?v=sHZw3G8zFfI\n",
      "https://www.youtube.com/watch?v=mAPcW_YDUKQ\n"
     ]
    },
    {
     "name": "stdout",
     "output_type": "stream",
     "text": [
      "https://www.youtube.com/watch?v=Dryfm9VaEw4\n",
      "https://www.youtube.com/watch?v=QhVPWYkad6g\n",
      "https://www.youtube.com/watch?v=ispBXqC34Ak\n",
      "https://www.youtube.com/watch?v=jH1PVSY0Tyk\n",
      "https://www.youtube.com/watch?v=AL9-apISbPc\n",
      "https://www.youtube.com/watch?v=8ILJ1rMBJAM\n",
      "https://www.youtube.com/watch?v=TBB9NTkYxoM\n",
      "https://www.youtube.com/watch?v=SiaPnnVE5UY\n",
      "https://www.youtube.com/watch?v=gnFh__0Rw70\n",
      "https://www.youtube.com/watch?v=XZhypKN51iU\n",
      "https://www.youtube.com/watch?v=DXmF901A_oY\n",
      "https://www.youtube.com/watch?v=JthXUktKLuo\n",
      "https://www.youtube.com/watch?v=eVsbFgzK404\n",
      "https://www.youtube.com/watch?v=oIEswlF6Fno\n",
      "https://www.youtube.com/watch?v=OGQ1iWx91cY\n",
      "https://www.youtube.com/watch?v=kr9QnYf2zK4\n",
      "https://www.youtube.com/watch?v=FUs-pzmYzaE\n",
      "https://www.youtube.com/watch?v=RuJi1U0zdd8\n",
      "https://www.youtube.com/watch?v=kx7wSSZVQaE\n",
      "https://www.youtube.com/watch?v=BNboXcQGrH4\n",
      "https://www.youtube.com/watch?v=DLIHRyBiLBs\n",
      "https://www.youtube.com/watch?v=UiQllA4e2jg\n",
      "https://www.youtube.com/watch?v=yn7Sm8aoxYo\n",
      "https://www.youtube.com/watch?v=HGxZRuBPzF8\n",
      "https://www.youtube.com/watch?v=1JEscmiuiSo\n",
      "https://www.youtube.com/watch?v=dHSU5QS_MW4\n",
      "https://www.youtube.com/watch?v=22uJMgOxw3o\n",
      "https://www.youtube.com/watch?v=mJgrX0woJ1g\n",
      "https://www.youtube.com/watch?v=KWI8YNRBtso\n",
      "https://www.youtube.com/watch?v=p3l_NXm-4r8\n",
      "https://www.youtube.com/watch?v=Id_HSzb4A40\n",
      "https://www.youtube.com/watch?v=7eIWF4_FucA\n",
      "https://www.youtube.com/watch?v=JCD8hnc25eU\n",
      "https://www.youtube.com/watch?v=F_CfUuvpqWI\n",
      "https://www.youtube.com/watch?v=mS8N0eKOD3k\n",
      "https://www.youtube.com/watch?v=ch_vJ15TeI0\n",
      "https://www.youtube.com/watch?v=MAu1fPqlivk\n",
      "https://www.youtube.com/watch?v=5x2QxTdgKZg\n",
      "https://www.youtube.com/watch?v=fQITiqnjfWI\n",
      "https://www.youtube.com/watch?v=z-vgp6S6CyY\n",
      "https://www.youtube.com/watch?v=lZyn8VTsBtE\n",
      "https://www.youtube.com/watch?v=4aUpyG2zon4\n",
      "https://www.youtube.com/watch?v=SZvAGsTCWcQ\n",
      "https://www.youtube.com/watch?v=aX6v1Vgv5Rc\n",
      "https://www.youtube.com/watch?v=oYshnIgyxcY\n"
     ]
    }
   ],
   "source": [
    "import sys, unittest, time, datetime\n",
    "import urllib.request, urllib.error, urllib.parse\n",
    "from selenium import webdriver\n",
    "from selenium.webdriver.common.by import By\n",
    "from selenium.webdriver.support.ui import WebDriverWait\n",
    "from selenium.webdriver.support import expected_conditions as EC\n",
    "from selenium.common.exceptions import InvalidArgumentException\n",
    "from selenium.webdriver.chrome.options import Options\n",
    "\n",
    "\n",
    "#################################################################################\n",
    "\n",
    "url = \"https://www.youtube.com/c/SatyajitPattnaik/videos\"\n",
    "################################################################################\n",
    "channelid = url.split('/')[4]\n",
    "\n",
    "driver = webdriver.Firefox(executable_path=r'geckodriver.exe')\n",
    "driver.wait = WebDriverWait(driver, 5)\n",
    "driver.maximize_window()\n",
    "driver.get(url)\n",
    "time.sleep(5)\n",
    "dt=datetime.datetime.now().strftime(\"%Y%m%d%H%M\")\n",
    "height = driver.execute_script(\"return document.documentElement.scrollHeight\")\n",
    "lastheight = 0\n",
    "\n",
    "while True:\n",
    "    if lastheight == height:\n",
    "        break\n",
    "    lastheight = height\n",
    "    driver.execute_script(\"window.scrollTo(0, \" + str(height) + \");\")\n",
    "    time.sleep(2)\n",
    "    height = driver.execute_script(\"return document.documentElement.scrollHeight\")\n",
    "link=[]\n",
    "user_data = driver.find_elements_by_xpath('//*[@id=\"video-title\"]')\n",
    "for i in user_data:\n",
    "\tprint(i.get_attribute('href'))\n",
    "\tlink.append(i.get_attribute('href'))\n",
    "\t\n",
    "\n",
    "driver.close()"
   ]
  },
  {
   "cell_type": "code",
   "execution_count": 4,
   "id": "a52f5da1",
   "metadata": {},
   "outputs": [
    {
     "data": {
      "text/plain": [
       "['https://www.youtube.com/watch?v=vY8rS0x1VDE',\n",
       " 'https://www.youtube.com/watch?v=8PRkR9Fl2lA',\n",
       " 'https://www.youtube.com/watch?v=7plcQ0wdWQY',\n",
       " 'https://www.youtube.com/watch?v=8XTeqM2MUXs',\n",
       " 'https://www.youtube.com/watch?v=ZZeLRt4zvB8',\n",
       " 'https://www.youtube.com/watch?v=r-W1h4Y_oVM',\n",
       " 'https://www.youtube.com/watch?v=V2ymuelT3Ec',\n",
       " 'https://www.youtube.com/watch?v=Uv3tUueaDa0',\n",
       " 'https://www.youtube.com/watch?v=GVu36rlz1Is',\n",
       " 'https://www.youtube.com/watch?v=FAjoPtjsk6Q',\n",
       " 'https://www.youtube.com/watch?v=3wAjzF1TVOk',\n",
       " 'https://www.youtube.com/watch?v=VOqHUQ9_YFI',\n",
       " 'https://www.youtube.com/watch?v=U8iXyi_VSuQ',\n",
       " 'https://www.youtube.com/watch?v=bKlGETTIam8',\n",
       " 'https://www.youtube.com/watch?v=b6WvYSsNeQk',\n",
       " 'https://www.youtube.com/watch?v=xsRtQ9Zzmas',\n",
       " 'https://www.youtube.com/watch?v=tmpaaI1s2Y0',\n",
       " 'https://www.youtube.com/watch?v=llJvJVNZ4KQ',\n",
       " 'https://www.youtube.com/watch?v=m5aLPICp7m0',\n",
       " 'https://www.youtube.com/watch?v=n0v31TyGS0E',\n",
       " 'https://www.youtube.com/watch?v=lNwfU94_JEs',\n",
       " 'https://www.youtube.com/watch?v=mHJKmiDWq3A',\n",
       " 'https://www.youtube.com/watch?v=dJUq0QuUVx0',\n",
       " 'https://www.youtube.com/watch?v=XexKfe2PXfM',\n",
       " 'https://www.youtube.com/watch?v=TQErZbQ7bRc',\n",
       " 'https://www.youtube.com/watch?v=vOT6X6FRrTI',\n",
       " 'https://www.youtube.com/watch?v=EXqa_ml4Ju8',\n",
       " 'https://www.youtube.com/watch?v=LdyhqZEC2EA',\n",
       " 'https://www.youtube.com/watch?v=LgKOkkT8dCw',\n",
       " 'https://www.youtube.com/watch?v=-FYvtZrRo54',\n",
       " 'https://www.youtube.com/watch?v=qGm2-B53guk',\n",
       " 'https://www.youtube.com/watch?v=AUfMYX3hmvw',\n",
       " 'https://www.youtube.com/watch?v=pW3ONQIheew',\n",
       " 'https://www.youtube.com/watch?v=NxCoTT36E-o',\n",
       " 'https://www.youtube.com/watch?v=biqgb4tf9MA',\n",
       " 'https://www.youtube.com/watch?v=XWu3ZruHgjQ',\n",
       " 'https://www.youtube.com/watch?v=TElsd9xFb3g',\n",
       " 'https://www.youtube.com/watch?v=psD8Fz3_ZFo',\n",
       " 'https://www.youtube.com/watch?v=rOZPypYMJLg',\n",
       " 'https://www.youtube.com/watch?v=_F_BXGZg4_U',\n",
       " 'https://www.youtube.com/watch?v=l8eKccYCsxk',\n",
       " 'https://www.youtube.com/watch?v=ozY4I6ZCIdg',\n",
       " 'https://www.youtube.com/watch?v=hWkGEjVJnY8',\n",
       " 'https://www.youtube.com/watch?v=Yv_YEy8IjRk',\n",
       " 'https://www.youtube.com/watch?v=ZUxIroQ1esU',\n",
       " 'https://www.youtube.com/watch?v=JhOsgUS6icQ',\n",
       " 'https://www.youtube.com/watch?v=sOncDHXhIec',\n",
       " 'https://www.youtube.com/watch?v=rBwghKw8r2w',\n",
       " 'https://www.youtube.com/watch?v=dN4Qo7tkeJc',\n",
       " 'https://www.youtube.com/watch?v=bYtsNlJTS-A',\n",
       " 'https://www.youtube.com/watch?v=Gh9HkS_-WRg',\n",
       " 'https://www.youtube.com/watch?v=NlVRgvRO7V8',\n",
       " 'https://www.youtube.com/watch?v=LdsMy0pJ1OY',\n",
       " 'https://www.youtube.com/watch?v=eVQIr-crE8E',\n",
       " 'https://www.youtube.com/watch?v=NQxZnF_i5cU',\n",
       " 'https://www.youtube.com/watch?v=Au_yL2nEHiE',\n",
       " 'https://www.youtube.com/watch?v=X83cDfwtFpw',\n",
       " 'https://www.youtube.com/watch?v=EqIQTN65IZs',\n",
       " 'https://www.youtube.com/watch?v=jCoeeAQg3Lg',\n",
       " 'https://www.youtube.com/watch?v=m7RbSNiYJgw',\n",
       " 'https://www.youtube.com/watch?v=8fVEMdHKmqM',\n",
       " 'https://www.youtube.com/watch?v=XYwkqdXVEwA',\n",
       " 'https://www.youtube.com/watch?v=XC6pFocflCI',\n",
       " 'https://www.youtube.com/watch?v=XgIMLUIOxiY',\n",
       " 'https://www.youtube.com/watch?v=kVwb8Ambo4U',\n",
       " 'https://www.youtube.com/watch?v=nOs5FKbISys',\n",
       " 'https://www.youtube.com/watch?v=uTb-OU1qp_8',\n",
       " 'https://www.youtube.com/watch?v=H3b2rEdub8A',\n",
       " 'https://www.youtube.com/watch?v=OZRDVw40b9E',\n",
       " 'https://www.youtube.com/watch?v=VUAQsotJcGk',\n",
       " 'https://www.youtube.com/watch?v=PSs2c56Vuuk',\n",
       " 'https://www.youtube.com/watch?v=WhUfhOBKjEU',\n",
       " 'https://www.youtube.com/watch?v=ozeljnpMffI',\n",
       " 'https://www.youtube.com/watch?v=A0n3E1jyAuM',\n",
       " 'https://www.youtube.com/watch?v=uUI5V9DXGkw',\n",
       " 'https://www.youtube.com/watch?v=X8kCyM4XhsM',\n",
       " 'https://www.youtube.com/watch?v=7m6VlY6Dlqk',\n",
       " 'https://www.youtube.com/watch?v=a_lEMYvacIA',\n",
       " 'https://www.youtube.com/watch?v=v8pWt1dlVIc',\n",
       " 'https://www.youtube.com/watch?v=Un6CT2wsFGE',\n",
       " 'https://www.youtube.com/watch?v=cWViZScbP-k',\n",
       " 'https://www.youtube.com/watch?v=YofmRBlv6vE',\n",
       " 'https://www.youtube.com/watch?v=YUyv61q3-B0',\n",
       " 'https://www.youtube.com/watch?v=943Vhw6rfXQ',\n",
       " 'https://www.youtube.com/watch?v=ZLVPYiS_Edk',\n",
       " 'https://www.youtube.com/watch?v=kkgwCG8PRGU',\n",
       " 'https://www.youtube.com/watch?v=2IoSQ4V6oSo',\n",
       " 'https://www.youtube.com/watch?v=mhdbimSq4XE',\n",
       " 'https://www.youtube.com/watch?v=3_xVAhVo2co',\n",
       " 'https://www.youtube.com/watch?v=lAXVjo2kitk',\n",
       " 'https://www.youtube.com/watch?v=Bszvsp1tazY',\n",
       " 'https://www.youtube.com/watch?v=M0seB-NjoaM',\n",
       " 'https://www.youtube.com/watch?v=hyPgLwZLezM',\n",
       " 'https://www.youtube.com/watch?v=JOgK4KZBTcQ',\n",
       " 'https://www.youtube.com/watch?v=OpF6TZJcpLA',\n",
       " 'https://www.youtube.com/watch?v=c4fqFTuU3p4',\n",
       " 'https://www.youtube.com/watch?v=3CBgmBk1rvo',\n",
       " 'https://www.youtube.com/watch?v=KtWLGFSUbg0',\n",
       " 'https://www.youtube.com/watch?v=iQ1lGOt9SlQ',\n",
       " 'https://www.youtube.com/watch?v=UA2L6dN1jlU',\n",
       " 'https://www.youtube.com/watch?v=G83OL86ojaU',\n",
       " 'https://www.youtube.com/watch?v=v6VXQ0ffIAs',\n",
       " 'https://www.youtube.com/watch?v=HZ2BbisBwf0',\n",
       " 'https://www.youtube.com/watch?v=Ar6hSITP-w4',\n",
       " 'https://www.youtube.com/watch?v=A97paK3yryo',\n",
       " 'https://www.youtube.com/watch?v=xihR5eKI2B4',\n",
       " 'https://www.youtube.com/watch?v=TFN_DXL14D4',\n",
       " 'https://www.youtube.com/watch?v=8qn7zRZMEN8',\n",
       " 'https://www.youtube.com/watch?v=l5ef7TZbCXY',\n",
       " 'https://www.youtube.com/watch?v=jSmmY8VIq-I',\n",
       " 'https://www.youtube.com/watch?v=6AdVJIuz8JA',\n",
       " 'https://www.youtube.com/watch?v=uJan469HPp4',\n",
       " 'https://www.youtube.com/watch?v=DV10Byr79fc',\n",
       " 'https://www.youtube.com/watch?v=vQ7IEtNcZN4',\n",
       " 'https://www.youtube.com/watch?v=IkNu3ccAh_M',\n",
       " 'https://www.youtube.com/watch?v=jLbYXOyUvFo',\n",
       " 'https://www.youtube.com/watch?v=kJdta28q7vg',\n",
       " 'https://www.youtube.com/watch?v=BsMdZI1v86Y',\n",
       " 'https://www.youtube.com/watch?v=uDiVZVhDL8Q',\n",
       " 'https://www.youtube.com/watch?v=ufGN2AMkyj0',\n",
       " 'https://www.youtube.com/watch?v=BGKkQ5OE7fg',\n",
       " 'https://www.youtube.com/watch?v=Rz9Esp8oWw0',\n",
       " 'https://www.youtube.com/watch?v=UrckZng5Ag8',\n",
       " 'https://www.youtube.com/watch?v=nGEyElk8IC4',\n",
       " 'https://www.youtube.com/watch?v=XTh1e3g2Ls8',\n",
       " 'https://www.youtube.com/watch?v=Jy2Uyso8A20',\n",
       " 'https://www.youtube.com/watch?v=8abSWJVzEkE',\n",
       " 'https://www.youtube.com/watch?v=ZtOJsdRNaqA',\n",
       " 'https://www.youtube.com/watch?v=Yi3oOpmb6aU',\n",
       " 'https://www.youtube.com/watch?v=lfbq_f0rRa8',\n",
       " 'https://www.youtube.com/watch?v=Ds0RHHNvZ60',\n",
       " 'https://www.youtube.com/watch?v=bewjcH1A-yE',\n",
       " 'https://www.youtube.com/watch?v=g2BXIb6E5cI',\n",
       " 'https://www.youtube.com/watch?v=HCpmbhS2kBs',\n",
       " 'https://www.youtube.com/watch?v=Xu5x-vn8J6M',\n",
       " 'https://www.youtube.com/watch?v=ozK39v9KneY',\n",
       " 'https://www.youtube.com/watch?v=QMoOr4ZxZrU',\n",
       " 'https://www.youtube.com/watch?v=UV7Y8P8NdK8',\n",
       " 'https://www.youtube.com/watch?v=EJB2y06lqtI',\n",
       " 'https://www.youtube.com/watch?v=JZ4UQIcDNTg',\n",
       " 'https://www.youtube.com/watch?v=n4Vm1lf6PlU',\n",
       " 'https://www.youtube.com/watch?v=QogyEMIW-yQ',\n",
       " 'https://www.youtube.com/watch?v=IhxRpKc2UaY',\n",
       " 'https://www.youtube.com/watch?v=Jdc99GyJJ_Y',\n",
       " 'https://www.youtube.com/watch?v=_pm0LsMQhcg',\n",
       " 'https://www.youtube.com/watch?v=7_9TePp1DGU',\n",
       " 'https://www.youtube.com/watch?v=jPQncmz7cUw',\n",
       " 'https://www.youtube.com/watch?v=QmB4GtIy0SY',\n",
       " 'https://www.youtube.com/watch?v=rl5mVI7jEK0',\n",
       " 'https://www.youtube.com/watch?v=ZmDvUYqtbdk',\n",
       " 'https://www.youtube.com/watch?v=3qw-OGilHjQ',\n",
       " 'https://www.youtube.com/watch?v=baL7OrGWlxs',\n",
       " 'https://www.youtube.com/watch?v=t1bPLK8R86k',\n",
       " 'https://www.youtube.com/watch?v=2EBDrDzCOTI',\n",
       " 'https://www.youtube.com/watch?v=S92nm1CxlQg',\n",
       " 'https://www.youtube.com/watch?v=_e6p9SvPsiY',\n",
       " 'https://www.youtube.com/watch?v=FVn1kDtMCMc',\n",
       " 'https://www.youtube.com/watch?v=VdPfv1up0WI',\n",
       " 'https://www.youtube.com/watch?v=2qI1CcMa55c',\n",
       " 'https://www.youtube.com/watch?v=NhWZFYk2H8s',\n",
       " 'https://www.youtube.com/watch?v=xDTgziqNwSQ',\n",
       " 'https://www.youtube.com/watch?v=Q-YJygPurPM',\n",
       " 'https://www.youtube.com/watch?v=xTN2ktqKSBk',\n",
       " 'https://www.youtube.com/watch?v=h0lZBdmB7dY',\n",
       " 'https://www.youtube.com/watch?v=TomrEJdULxo',\n",
       " 'https://www.youtube.com/watch?v=w5Ji-VEnbmc',\n",
       " 'https://www.youtube.com/watch?v=RrgIeAVN1mQ',\n",
       " 'https://www.youtube.com/watch?v=pud5sRDPSVQ',\n",
       " 'https://www.youtube.com/watch?v=zkuyLylCtjU',\n",
       " 'https://www.youtube.com/watch?v=LOkOWyJcEoE',\n",
       " 'https://www.youtube.com/watch?v=ylc-od8jfM8',\n",
       " 'https://www.youtube.com/watch?v=nw9vurfkR9c',\n",
       " 'https://www.youtube.com/watch?v=99CcviQchd8',\n",
       " 'https://www.youtube.com/watch?v=qlui6pu_U2Y',\n",
       " 'https://www.youtube.com/watch?v=Lie2H3QlJ_Y',\n",
       " 'https://www.youtube.com/watch?v=5WXwzyz4W-8',\n",
       " 'https://www.youtube.com/watch?v=mBpaH16mgd4',\n",
       " 'https://www.youtube.com/watch?v=yvMJh6f3piE',\n",
       " 'https://www.youtube.com/watch?v=BjN95ZK3Igc',\n",
       " 'https://www.youtube.com/watch?v=DcirMIhfiXs',\n",
       " 'https://www.youtube.com/watch?v=N9IIOfPb1hk',\n",
       " 'https://www.youtube.com/watch?v=3D_UtHKubXs',\n",
       " 'https://www.youtube.com/watch?v=WJRhB39BxWQ',\n",
       " 'https://www.youtube.com/watch?v=v2jffErQE4E',\n",
       " 'https://www.youtube.com/watch?v=vCecJWz3Qm8',\n",
       " 'https://www.youtube.com/watch?v=huDnMnoTuCE',\n",
       " 'https://www.youtube.com/watch?v=w54b0Z9HvUA',\n",
       " 'https://www.youtube.com/watch?v=fXRbnSWJVJY',\n",
       " 'https://www.youtube.com/watch?v=p1vEUy_G9sw',\n",
       " 'https://www.youtube.com/watch?v=DQuS_cZg2wI',\n",
       " 'https://www.youtube.com/watch?v=krTHVKkUEYw',\n",
       " 'https://www.youtube.com/watch?v=aagMarhcSww',\n",
       " 'https://www.youtube.com/watch?v=GVECbcKUio4',\n",
       " 'https://www.youtube.com/watch?v=ejT7oNtySbo',\n",
       " 'https://www.youtube.com/watch?v=jcbHc7IFlzA',\n",
       " 'https://www.youtube.com/watch?v=jo8XTr_FIlI',\n",
       " 'https://www.youtube.com/watch?v=UBDCFrLyFbU',\n",
       " 'https://www.youtube.com/watch?v=YOu2wMMvYKg',\n",
       " 'https://www.youtube.com/watch?v=sHZw3G8zFfI',\n",
       " 'https://www.youtube.com/watch?v=mAPcW_YDUKQ',\n",
       " 'https://www.youtube.com/watch?v=Dryfm9VaEw4',\n",
       " 'https://www.youtube.com/watch?v=QhVPWYkad6g',\n",
       " 'https://www.youtube.com/watch?v=ispBXqC34Ak',\n",
       " 'https://www.youtube.com/watch?v=jH1PVSY0Tyk',\n",
       " 'https://www.youtube.com/watch?v=AL9-apISbPc',\n",
       " 'https://www.youtube.com/watch?v=8ILJ1rMBJAM',\n",
       " 'https://www.youtube.com/watch?v=TBB9NTkYxoM',\n",
       " 'https://www.youtube.com/watch?v=SiaPnnVE5UY',\n",
       " 'https://www.youtube.com/watch?v=gnFh__0Rw70',\n",
       " 'https://www.youtube.com/watch?v=XZhypKN51iU',\n",
       " 'https://www.youtube.com/watch?v=DXmF901A_oY',\n",
       " 'https://www.youtube.com/watch?v=JthXUktKLuo',\n",
       " 'https://www.youtube.com/watch?v=eVsbFgzK404',\n",
       " 'https://www.youtube.com/watch?v=oIEswlF6Fno',\n",
       " 'https://www.youtube.com/watch?v=OGQ1iWx91cY',\n",
       " 'https://www.youtube.com/watch?v=kr9QnYf2zK4',\n",
       " 'https://www.youtube.com/watch?v=FUs-pzmYzaE',\n",
       " 'https://www.youtube.com/watch?v=RuJi1U0zdd8',\n",
       " 'https://www.youtube.com/watch?v=kx7wSSZVQaE',\n",
       " 'https://www.youtube.com/watch?v=BNboXcQGrH4',\n",
       " 'https://www.youtube.com/watch?v=DLIHRyBiLBs',\n",
       " 'https://www.youtube.com/watch?v=UiQllA4e2jg',\n",
       " 'https://www.youtube.com/watch?v=yn7Sm8aoxYo',\n",
       " 'https://www.youtube.com/watch?v=HGxZRuBPzF8',\n",
       " 'https://www.youtube.com/watch?v=1JEscmiuiSo',\n",
       " 'https://www.youtube.com/watch?v=dHSU5QS_MW4',\n",
       " 'https://www.youtube.com/watch?v=22uJMgOxw3o',\n",
       " 'https://www.youtube.com/watch?v=mJgrX0woJ1g',\n",
       " 'https://www.youtube.com/watch?v=KWI8YNRBtso',\n",
       " 'https://www.youtube.com/watch?v=p3l_NXm-4r8',\n",
       " 'https://www.youtube.com/watch?v=Id_HSzb4A40',\n",
       " 'https://www.youtube.com/watch?v=7eIWF4_FucA',\n",
       " 'https://www.youtube.com/watch?v=JCD8hnc25eU',\n",
       " 'https://www.youtube.com/watch?v=F_CfUuvpqWI',\n",
       " 'https://www.youtube.com/watch?v=mS8N0eKOD3k',\n",
       " 'https://www.youtube.com/watch?v=ch_vJ15TeI0',\n",
       " 'https://www.youtube.com/watch?v=MAu1fPqlivk',\n",
       " 'https://www.youtube.com/watch?v=5x2QxTdgKZg',\n",
       " 'https://www.youtube.com/watch?v=fQITiqnjfWI',\n",
       " 'https://www.youtube.com/watch?v=z-vgp6S6CyY',\n",
       " 'https://www.youtube.com/watch?v=lZyn8VTsBtE',\n",
       " 'https://www.youtube.com/watch?v=4aUpyG2zon4',\n",
       " 'https://www.youtube.com/watch?v=SZvAGsTCWcQ',\n",
       " 'https://www.youtube.com/watch?v=aX6v1Vgv5Rc',\n",
       " 'https://www.youtube.com/watch?v=oYshnIgyxcY']"
      ]
     },
     "execution_count": 4,
     "metadata": {},
     "output_type": "execute_result"
    }
   ],
   "source": [
    "link"
   ]
  },
  {
   "cell_type": "code",
   "execution_count": 5,
   "id": "13107691",
   "metadata": {},
   "outputs": [
    {
     "data": {
      "text/plain": [
       "245"
      ]
     },
     "execution_count": 5,
     "metadata": {},
     "output_type": "execute_result"
    }
   ],
   "source": [
    "len(link)"
   ]
  },
  {
   "cell_type": "code",
   "execution_count": 6,
   "id": "bfdf2036",
   "metadata": {},
   "outputs": [
    {
     "data": {
      "text/html": [
       "<div>\n",
       "<style scoped>\n",
       "    .dataframe tbody tr th:only-of-type {\n",
       "        vertical-align: middle;\n",
       "    }\n",
       "\n",
       "    .dataframe tbody tr th {\n",
       "        vertical-align: top;\n",
       "    }\n",
       "\n",
       "    .dataframe thead th {\n",
       "        text-align: right;\n",
       "    }\n",
       "</style>\n",
       "<table border=\"1\" class=\"dataframe\">\n",
       "  <thead>\n",
       "    <tr style=\"text-align: right;\">\n",
       "      <th></th>\n",
       "      <th>Link</th>\n",
       "    </tr>\n",
       "  </thead>\n",
       "  <tbody>\n",
       "    <tr>\n",
       "      <th>0</th>\n",
       "      <td>https://www.youtube.com/watch?v=vY8rS0x1VDE</td>\n",
       "    </tr>\n",
       "    <tr>\n",
       "      <th>1</th>\n",
       "      <td>https://www.youtube.com/watch?v=8PRkR9Fl2lA</td>\n",
       "    </tr>\n",
       "    <tr>\n",
       "      <th>2</th>\n",
       "      <td>https://www.youtube.com/watch?v=7plcQ0wdWQY</td>\n",
       "    </tr>\n",
       "    <tr>\n",
       "      <th>3</th>\n",
       "      <td>https://www.youtube.com/watch?v=8XTeqM2MUXs</td>\n",
       "    </tr>\n",
       "    <tr>\n",
       "      <th>4</th>\n",
       "      <td>https://www.youtube.com/watch?v=ZZeLRt4zvB8</td>\n",
       "    </tr>\n",
       "    <tr>\n",
       "      <th>...</th>\n",
       "      <td>...</td>\n",
       "    </tr>\n",
       "    <tr>\n",
       "      <th>240</th>\n",
       "      <td>https://www.youtube.com/watch?v=lZyn8VTsBtE</td>\n",
       "    </tr>\n",
       "    <tr>\n",
       "      <th>241</th>\n",
       "      <td>https://www.youtube.com/watch?v=4aUpyG2zon4</td>\n",
       "    </tr>\n",
       "    <tr>\n",
       "      <th>242</th>\n",
       "      <td>https://www.youtube.com/watch?v=SZvAGsTCWcQ</td>\n",
       "    </tr>\n",
       "    <tr>\n",
       "      <th>243</th>\n",
       "      <td>https://www.youtube.com/watch?v=aX6v1Vgv5Rc</td>\n",
       "    </tr>\n",
       "    <tr>\n",
       "      <th>244</th>\n",
       "      <td>https://www.youtube.com/watch?v=oYshnIgyxcY</td>\n",
       "    </tr>\n",
       "  </tbody>\n",
       "</table>\n",
       "<p>245 rows × 1 columns</p>\n",
       "</div>"
      ],
      "text/plain": [
       "                                            Link\n",
       "0    https://www.youtube.com/watch?v=vY8rS0x1VDE\n",
       "1    https://www.youtube.com/watch?v=8PRkR9Fl2lA\n",
       "2    https://www.youtube.com/watch?v=7plcQ0wdWQY\n",
       "3    https://www.youtube.com/watch?v=8XTeqM2MUXs\n",
       "4    https://www.youtube.com/watch?v=ZZeLRt4zvB8\n",
       "..                                           ...\n",
       "240  https://www.youtube.com/watch?v=lZyn8VTsBtE\n",
       "241  https://www.youtube.com/watch?v=4aUpyG2zon4\n",
       "242  https://www.youtube.com/watch?v=SZvAGsTCWcQ\n",
       "243  https://www.youtube.com/watch?v=aX6v1Vgv5Rc\n",
       "244  https://www.youtube.com/watch?v=oYshnIgyxcY\n",
       "\n",
       "[245 rows x 1 columns]"
      ]
     },
     "execution_count": 6,
     "metadata": {},
     "output_type": "execute_result"
    }
   ],
   "source": [
    "df = pd.DataFrame([link]).transpose()\n",
    "df.columns = ['Link']\n",
    "df"
   ]
  },
  {
   "cell_type": "code",
   "execution_count": 7,
   "id": "2d515351",
   "metadata": {},
   "outputs": [],
   "source": [
    "df.to_csv('youtube-links.csv')"
   ]
  },
  {
   "cell_type": "code",
   "execution_count": 8,
   "id": "b411858f",
   "metadata": {},
   "outputs": [],
   "source": [
    "link=pd.read_csv('youtube-links.csv')"
   ]
  },
  {
   "cell_type": "code",
   "execution_count": 9,
   "id": "0d46e78d",
   "metadata": {},
   "outputs": [],
   "source": [
    "links=list(link.Link)"
   ]
  },
  {
   "cell_type": "code",
   "execution_count": 10,
   "id": "6b068485",
   "metadata": {},
   "outputs": [
    {
     "data": {
      "text/plain": [
       "['https://www.youtube.com/watch?v=vY8rS0x1VDE',\n",
       " 'https://www.youtube.com/watch?v=8PRkR9Fl2lA',\n",
       " 'https://www.youtube.com/watch?v=7plcQ0wdWQY',\n",
       " 'https://www.youtube.com/watch?v=8XTeqM2MUXs',\n",
       " 'https://www.youtube.com/watch?v=ZZeLRt4zvB8',\n",
       " 'https://www.youtube.com/watch?v=r-W1h4Y_oVM',\n",
       " 'https://www.youtube.com/watch?v=V2ymuelT3Ec',\n",
       " 'https://www.youtube.com/watch?v=Uv3tUueaDa0',\n",
       " 'https://www.youtube.com/watch?v=GVu36rlz1Is',\n",
       " 'https://www.youtube.com/watch?v=FAjoPtjsk6Q',\n",
       " 'https://www.youtube.com/watch?v=3wAjzF1TVOk',\n",
       " 'https://www.youtube.com/watch?v=VOqHUQ9_YFI',\n",
       " 'https://www.youtube.com/watch?v=U8iXyi_VSuQ',\n",
       " 'https://www.youtube.com/watch?v=bKlGETTIam8',\n",
       " 'https://www.youtube.com/watch?v=b6WvYSsNeQk',\n",
       " 'https://www.youtube.com/watch?v=xsRtQ9Zzmas',\n",
       " 'https://www.youtube.com/watch?v=tmpaaI1s2Y0',\n",
       " 'https://www.youtube.com/watch?v=llJvJVNZ4KQ',\n",
       " 'https://www.youtube.com/watch?v=m5aLPICp7m0',\n",
       " 'https://www.youtube.com/watch?v=n0v31TyGS0E',\n",
       " 'https://www.youtube.com/watch?v=lNwfU94_JEs',\n",
       " 'https://www.youtube.com/watch?v=mHJKmiDWq3A',\n",
       " 'https://www.youtube.com/watch?v=dJUq0QuUVx0',\n",
       " 'https://www.youtube.com/watch?v=XexKfe2PXfM',\n",
       " 'https://www.youtube.com/watch?v=TQErZbQ7bRc',\n",
       " 'https://www.youtube.com/watch?v=vOT6X6FRrTI',\n",
       " 'https://www.youtube.com/watch?v=EXqa_ml4Ju8',\n",
       " 'https://www.youtube.com/watch?v=LdyhqZEC2EA',\n",
       " 'https://www.youtube.com/watch?v=LgKOkkT8dCw',\n",
       " 'https://www.youtube.com/watch?v=-FYvtZrRo54',\n",
       " 'https://www.youtube.com/watch?v=qGm2-B53guk',\n",
       " 'https://www.youtube.com/watch?v=AUfMYX3hmvw',\n",
       " 'https://www.youtube.com/watch?v=pW3ONQIheew',\n",
       " 'https://www.youtube.com/watch?v=NxCoTT36E-o',\n",
       " 'https://www.youtube.com/watch?v=biqgb4tf9MA',\n",
       " 'https://www.youtube.com/watch?v=XWu3ZruHgjQ',\n",
       " 'https://www.youtube.com/watch?v=TElsd9xFb3g',\n",
       " 'https://www.youtube.com/watch?v=psD8Fz3_ZFo',\n",
       " 'https://www.youtube.com/watch?v=rOZPypYMJLg',\n",
       " 'https://www.youtube.com/watch?v=_F_BXGZg4_U',\n",
       " 'https://www.youtube.com/watch?v=l8eKccYCsxk',\n",
       " 'https://www.youtube.com/watch?v=ozY4I6ZCIdg',\n",
       " 'https://www.youtube.com/watch?v=hWkGEjVJnY8',\n",
       " 'https://www.youtube.com/watch?v=Yv_YEy8IjRk',\n",
       " 'https://www.youtube.com/watch?v=ZUxIroQ1esU',\n",
       " 'https://www.youtube.com/watch?v=JhOsgUS6icQ',\n",
       " 'https://www.youtube.com/watch?v=sOncDHXhIec',\n",
       " 'https://www.youtube.com/watch?v=rBwghKw8r2w',\n",
       " 'https://www.youtube.com/watch?v=dN4Qo7tkeJc',\n",
       " 'https://www.youtube.com/watch?v=bYtsNlJTS-A',\n",
       " 'https://www.youtube.com/watch?v=Gh9HkS_-WRg',\n",
       " 'https://www.youtube.com/watch?v=NlVRgvRO7V8',\n",
       " 'https://www.youtube.com/watch?v=LdsMy0pJ1OY',\n",
       " 'https://www.youtube.com/watch?v=eVQIr-crE8E',\n",
       " 'https://www.youtube.com/watch?v=NQxZnF_i5cU',\n",
       " 'https://www.youtube.com/watch?v=Au_yL2nEHiE',\n",
       " 'https://www.youtube.com/watch?v=X83cDfwtFpw',\n",
       " 'https://www.youtube.com/watch?v=EqIQTN65IZs',\n",
       " 'https://www.youtube.com/watch?v=jCoeeAQg3Lg',\n",
       " 'https://www.youtube.com/watch?v=m7RbSNiYJgw',\n",
       " 'https://www.youtube.com/watch?v=8fVEMdHKmqM',\n",
       " 'https://www.youtube.com/watch?v=XYwkqdXVEwA',\n",
       " 'https://www.youtube.com/watch?v=XC6pFocflCI',\n",
       " 'https://www.youtube.com/watch?v=XgIMLUIOxiY',\n",
       " 'https://www.youtube.com/watch?v=kVwb8Ambo4U',\n",
       " 'https://www.youtube.com/watch?v=nOs5FKbISys',\n",
       " 'https://www.youtube.com/watch?v=uTb-OU1qp_8',\n",
       " 'https://www.youtube.com/watch?v=H3b2rEdub8A',\n",
       " 'https://www.youtube.com/watch?v=OZRDVw40b9E',\n",
       " 'https://www.youtube.com/watch?v=VUAQsotJcGk',\n",
       " 'https://www.youtube.com/watch?v=PSs2c56Vuuk',\n",
       " 'https://www.youtube.com/watch?v=WhUfhOBKjEU',\n",
       " 'https://www.youtube.com/watch?v=ozeljnpMffI',\n",
       " 'https://www.youtube.com/watch?v=A0n3E1jyAuM',\n",
       " 'https://www.youtube.com/watch?v=uUI5V9DXGkw',\n",
       " 'https://www.youtube.com/watch?v=X8kCyM4XhsM',\n",
       " 'https://www.youtube.com/watch?v=7m6VlY6Dlqk',\n",
       " 'https://www.youtube.com/watch?v=a_lEMYvacIA',\n",
       " 'https://www.youtube.com/watch?v=v8pWt1dlVIc',\n",
       " 'https://www.youtube.com/watch?v=Un6CT2wsFGE',\n",
       " 'https://www.youtube.com/watch?v=cWViZScbP-k',\n",
       " 'https://www.youtube.com/watch?v=YofmRBlv6vE',\n",
       " 'https://www.youtube.com/watch?v=YUyv61q3-B0',\n",
       " 'https://www.youtube.com/watch?v=943Vhw6rfXQ',\n",
       " 'https://www.youtube.com/watch?v=ZLVPYiS_Edk',\n",
       " 'https://www.youtube.com/watch?v=kkgwCG8PRGU',\n",
       " 'https://www.youtube.com/watch?v=2IoSQ4V6oSo',\n",
       " 'https://www.youtube.com/watch?v=mhdbimSq4XE',\n",
       " 'https://www.youtube.com/watch?v=3_xVAhVo2co',\n",
       " 'https://www.youtube.com/watch?v=lAXVjo2kitk',\n",
       " 'https://www.youtube.com/watch?v=Bszvsp1tazY',\n",
       " 'https://www.youtube.com/watch?v=M0seB-NjoaM',\n",
       " 'https://www.youtube.com/watch?v=hyPgLwZLezM',\n",
       " 'https://www.youtube.com/watch?v=JOgK4KZBTcQ',\n",
       " 'https://www.youtube.com/watch?v=OpF6TZJcpLA',\n",
       " 'https://www.youtube.com/watch?v=c4fqFTuU3p4',\n",
       " 'https://www.youtube.com/watch?v=3CBgmBk1rvo',\n",
       " 'https://www.youtube.com/watch?v=KtWLGFSUbg0',\n",
       " 'https://www.youtube.com/watch?v=iQ1lGOt9SlQ',\n",
       " 'https://www.youtube.com/watch?v=UA2L6dN1jlU',\n",
       " 'https://www.youtube.com/watch?v=G83OL86ojaU',\n",
       " 'https://www.youtube.com/watch?v=v6VXQ0ffIAs',\n",
       " 'https://www.youtube.com/watch?v=HZ2BbisBwf0',\n",
       " 'https://www.youtube.com/watch?v=Ar6hSITP-w4',\n",
       " 'https://www.youtube.com/watch?v=A97paK3yryo',\n",
       " 'https://www.youtube.com/watch?v=xihR5eKI2B4',\n",
       " 'https://www.youtube.com/watch?v=TFN_DXL14D4',\n",
       " 'https://www.youtube.com/watch?v=8qn7zRZMEN8',\n",
       " 'https://www.youtube.com/watch?v=l5ef7TZbCXY',\n",
       " 'https://www.youtube.com/watch?v=jSmmY8VIq-I',\n",
       " 'https://www.youtube.com/watch?v=6AdVJIuz8JA',\n",
       " 'https://www.youtube.com/watch?v=uJan469HPp4',\n",
       " 'https://www.youtube.com/watch?v=DV10Byr79fc',\n",
       " 'https://www.youtube.com/watch?v=vQ7IEtNcZN4',\n",
       " 'https://www.youtube.com/watch?v=IkNu3ccAh_M',\n",
       " 'https://www.youtube.com/watch?v=jLbYXOyUvFo',\n",
       " 'https://www.youtube.com/watch?v=kJdta28q7vg',\n",
       " 'https://www.youtube.com/watch?v=BsMdZI1v86Y',\n",
       " 'https://www.youtube.com/watch?v=uDiVZVhDL8Q',\n",
       " 'https://www.youtube.com/watch?v=ufGN2AMkyj0',\n",
       " 'https://www.youtube.com/watch?v=BGKkQ5OE7fg',\n",
       " 'https://www.youtube.com/watch?v=Rz9Esp8oWw0',\n",
       " 'https://www.youtube.com/watch?v=UrckZng5Ag8',\n",
       " 'https://www.youtube.com/watch?v=nGEyElk8IC4',\n",
       " 'https://www.youtube.com/watch?v=XTh1e3g2Ls8',\n",
       " 'https://www.youtube.com/watch?v=Jy2Uyso8A20',\n",
       " 'https://www.youtube.com/watch?v=8abSWJVzEkE',\n",
       " 'https://www.youtube.com/watch?v=ZtOJsdRNaqA',\n",
       " 'https://www.youtube.com/watch?v=Yi3oOpmb6aU',\n",
       " 'https://www.youtube.com/watch?v=lfbq_f0rRa8',\n",
       " 'https://www.youtube.com/watch?v=Ds0RHHNvZ60',\n",
       " 'https://www.youtube.com/watch?v=bewjcH1A-yE',\n",
       " 'https://www.youtube.com/watch?v=g2BXIb6E5cI',\n",
       " 'https://www.youtube.com/watch?v=HCpmbhS2kBs',\n",
       " 'https://www.youtube.com/watch?v=Xu5x-vn8J6M',\n",
       " 'https://www.youtube.com/watch?v=ozK39v9KneY',\n",
       " 'https://www.youtube.com/watch?v=QMoOr4ZxZrU',\n",
       " 'https://www.youtube.com/watch?v=UV7Y8P8NdK8',\n",
       " 'https://www.youtube.com/watch?v=EJB2y06lqtI',\n",
       " 'https://www.youtube.com/watch?v=JZ4UQIcDNTg',\n",
       " 'https://www.youtube.com/watch?v=n4Vm1lf6PlU',\n",
       " 'https://www.youtube.com/watch?v=QogyEMIW-yQ',\n",
       " 'https://www.youtube.com/watch?v=IhxRpKc2UaY',\n",
       " 'https://www.youtube.com/watch?v=Jdc99GyJJ_Y',\n",
       " 'https://www.youtube.com/watch?v=_pm0LsMQhcg',\n",
       " 'https://www.youtube.com/watch?v=7_9TePp1DGU',\n",
       " 'https://www.youtube.com/watch?v=jPQncmz7cUw',\n",
       " 'https://www.youtube.com/watch?v=QmB4GtIy0SY',\n",
       " 'https://www.youtube.com/watch?v=rl5mVI7jEK0',\n",
       " 'https://www.youtube.com/watch?v=ZmDvUYqtbdk',\n",
       " 'https://www.youtube.com/watch?v=3qw-OGilHjQ',\n",
       " 'https://www.youtube.com/watch?v=baL7OrGWlxs',\n",
       " 'https://www.youtube.com/watch?v=t1bPLK8R86k',\n",
       " 'https://www.youtube.com/watch?v=2EBDrDzCOTI',\n",
       " 'https://www.youtube.com/watch?v=S92nm1CxlQg',\n",
       " 'https://www.youtube.com/watch?v=_e6p9SvPsiY',\n",
       " 'https://www.youtube.com/watch?v=FVn1kDtMCMc',\n",
       " 'https://www.youtube.com/watch?v=VdPfv1up0WI',\n",
       " 'https://www.youtube.com/watch?v=2qI1CcMa55c',\n",
       " 'https://www.youtube.com/watch?v=NhWZFYk2H8s',\n",
       " 'https://www.youtube.com/watch?v=xDTgziqNwSQ',\n",
       " 'https://www.youtube.com/watch?v=Q-YJygPurPM',\n",
       " 'https://www.youtube.com/watch?v=xTN2ktqKSBk',\n",
       " 'https://www.youtube.com/watch?v=h0lZBdmB7dY',\n",
       " 'https://www.youtube.com/watch?v=TomrEJdULxo',\n",
       " 'https://www.youtube.com/watch?v=w5Ji-VEnbmc',\n",
       " 'https://www.youtube.com/watch?v=RrgIeAVN1mQ',\n",
       " 'https://www.youtube.com/watch?v=pud5sRDPSVQ',\n",
       " 'https://www.youtube.com/watch?v=zkuyLylCtjU',\n",
       " 'https://www.youtube.com/watch?v=LOkOWyJcEoE',\n",
       " 'https://www.youtube.com/watch?v=ylc-od8jfM8',\n",
       " 'https://www.youtube.com/watch?v=nw9vurfkR9c',\n",
       " 'https://www.youtube.com/watch?v=99CcviQchd8',\n",
       " 'https://www.youtube.com/watch?v=qlui6pu_U2Y',\n",
       " 'https://www.youtube.com/watch?v=Lie2H3QlJ_Y',\n",
       " 'https://www.youtube.com/watch?v=5WXwzyz4W-8',\n",
       " 'https://www.youtube.com/watch?v=mBpaH16mgd4',\n",
       " 'https://www.youtube.com/watch?v=yvMJh6f3piE',\n",
       " 'https://www.youtube.com/watch?v=BjN95ZK3Igc',\n",
       " 'https://www.youtube.com/watch?v=DcirMIhfiXs',\n",
       " 'https://www.youtube.com/watch?v=N9IIOfPb1hk',\n",
       " 'https://www.youtube.com/watch?v=3D_UtHKubXs',\n",
       " 'https://www.youtube.com/watch?v=WJRhB39BxWQ',\n",
       " 'https://www.youtube.com/watch?v=v2jffErQE4E',\n",
       " 'https://www.youtube.com/watch?v=vCecJWz3Qm8',\n",
       " 'https://www.youtube.com/watch?v=huDnMnoTuCE',\n",
       " 'https://www.youtube.com/watch?v=w54b0Z9HvUA',\n",
       " 'https://www.youtube.com/watch?v=fXRbnSWJVJY',\n",
       " 'https://www.youtube.com/watch?v=p1vEUy_G9sw',\n",
       " 'https://www.youtube.com/watch?v=DQuS_cZg2wI',\n",
       " 'https://www.youtube.com/watch?v=krTHVKkUEYw',\n",
       " 'https://www.youtube.com/watch?v=aagMarhcSww',\n",
       " 'https://www.youtube.com/watch?v=GVECbcKUio4',\n",
       " 'https://www.youtube.com/watch?v=ejT7oNtySbo',\n",
       " 'https://www.youtube.com/watch?v=jcbHc7IFlzA',\n",
       " 'https://www.youtube.com/watch?v=jo8XTr_FIlI',\n",
       " 'https://www.youtube.com/watch?v=UBDCFrLyFbU',\n",
       " 'https://www.youtube.com/watch?v=YOu2wMMvYKg',\n",
       " 'https://www.youtube.com/watch?v=sHZw3G8zFfI',\n",
       " 'https://www.youtube.com/watch?v=mAPcW_YDUKQ',\n",
       " 'https://www.youtube.com/watch?v=Dryfm9VaEw4',\n",
       " 'https://www.youtube.com/watch?v=QhVPWYkad6g',\n",
       " 'https://www.youtube.com/watch?v=ispBXqC34Ak',\n",
       " 'https://www.youtube.com/watch?v=jH1PVSY0Tyk',\n",
       " 'https://www.youtube.com/watch?v=AL9-apISbPc',\n",
       " 'https://www.youtube.com/watch?v=8ILJ1rMBJAM',\n",
       " 'https://www.youtube.com/watch?v=TBB9NTkYxoM',\n",
       " 'https://www.youtube.com/watch?v=SiaPnnVE5UY',\n",
       " 'https://www.youtube.com/watch?v=gnFh__0Rw70',\n",
       " 'https://www.youtube.com/watch?v=XZhypKN51iU',\n",
       " 'https://www.youtube.com/watch?v=DXmF901A_oY',\n",
       " 'https://www.youtube.com/watch?v=JthXUktKLuo',\n",
       " 'https://www.youtube.com/watch?v=eVsbFgzK404',\n",
       " 'https://www.youtube.com/watch?v=oIEswlF6Fno',\n",
       " 'https://www.youtube.com/watch?v=OGQ1iWx91cY',\n",
       " 'https://www.youtube.com/watch?v=kr9QnYf2zK4',\n",
       " 'https://www.youtube.com/watch?v=FUs-pzmYzaE',\n",
       " 'https://www.youtube.com/watch?v=RuJi1U0zdd8',\n",
       " 'https://www.youtube.com/watch?v=kx7wSSZVQaE',\n",
       " 'https://www.youtube.com/watch?v=BNboXcQGrH4',\n",
       " 'https://www.youtube.com/watch?v=DLIHRyBiLBs',\n",
       " 'https://www.youtube.com/watch?v=UiQllA4e2jg',\n",
       " 'https://www.youtube.com/watch?v=yn7Sm8aoxYo',\n",
       " 'https://www.youtube.com/watch?v=HGxZRuBPzF8',\n",
       " 'https://www.youtube.com/watch?v=1JEscmiuiSo',\n",
       " 'https://www.youtube.com/watch?v=dHSU5QS_MW4',\n",
       " 'https://www.youtube.com/watch?v=22uJMgOxw3o',\n",
       " 'https://www.youtube.com/watch?v=mJgrX0woJ1g',\n",
       " 'https://www.youtube.com/watch?v=KWI8YNRBtso',\n",
       " 'https://www.youtube.com/watch?v=p3l_NXm-4r8',\n",
       " 'https://www.youtube.com/watch?v=Id_HSzb4A40',\n",
       " 'https://www.youtube.com/watch?v=7eIWF4_FucA',\n",
       " 'https://www.youtube.com/watch?v=JCD8hnc25eU',\n",
       " 'https://www.youtube.com/watch?v=F_CfUuvpqWI',\n",
       " 'https://www.youtube.com/watch?v=mS8N0eKOD3k',\n",
       " 'https://www.youtube.com/watch?v=ch_vJ15TeI0',\n",
       " 'https://www.youtube.com/watch?v=MAu1fPqlivk',\n",
       " 'https://www.youtube.com/watch?v=5x2QxTdgKZg',\n",
       " 'https://www.youtube.com/watch?v=fQITiqnjfWI',\n",
       " 'https://www.youtube.com/watch?v=z-vgp6S6CyY',\n",
       " 'https://www.youtube.com/watch?v=lZyn8VTsBtE',\n",
       " 'https://www.youtube.com/watch?v=4aUpyG2zon4',\n",
       " 'https://www.youtube.com/watch?v=SZvAGsTCWcQ',\n",
       " 'https://www.youtube.com/watch?v=aX6v1Vgv5Rc',\n",
       " 'https://www.youtube.com/watch?v=oYshnIgyxcY']"
      ]
     },
     "execution_count": 10,
     "metadata": {},
     "output_type": "execute_result"
    }
   ],
   "source": [
    "links"
   ]
  },
  {
   "cell_type": "code",
   "execution_count": 11,
   "id": "d1248284",
   "metadata": {},
   "outputs": [
    {
     "data": {
      "text/plain": [
       "['https://www.youtube.com/watch?v=vY8rS0x1VDE',\n",
       " 'https://www.youtube.com/watch?v=8PRkR9Fl2lA',\n",
       " 'https://www.youtube.com/watch?v=7plcQ0wdWQY',\n",
       " 'https://www.youtube.com/watch?v=8XTeqM2MUXs',\n",
       " 'https://www.youtube.com/watch?v=ZZeLRt4zvB8',\n",
       " 'https://www.youtube.com/watch?v=r-W1h4Y_oVM',\n",
       " 'https://www.youtube.com/watch?v=V2ymuelT3Ec',\n",
       " 'https://www.youtube.com/watch?v=Uv3tUueaDa0',\n",
       " 'https://www.youtube.com/watch?v=GVu36rlz1Is',\n",
       " 'https://www.youtube.com/watch?v=FAjoPtjsk6Q',\n",
       " 'https://www.youtube.com/watch?v=3wAjzF1TVOk',\n",
       " 'https://www.youtube.com/watch?v=VOqHUQ9_YFI',\n",
       " 'https://www.youtube.com/watch?v=U8iXyi_VSuQ',\n",
       " 'https://www.youtube.com/watch?v=bKlGETTIam8',\n",
       " 'https://www.youtube.com/watch?v=b6WvYSsNeQk',\n",
       " 'https://www.youtube.com/watch?v=xsRtQ9Zzmas',\n",
       " 'https://www.youtube.com/watch?v=tmpaaI1s2Y0',\n",
       " 'https://www.youtube.com/watch?v=llJvJVNZ4KQ',\n",
       " 'https://www.youtube.com/watch?v=m5aLPICp7m0',\n",
       " 'https://www.youtube.com/watch?v=n0v31TyGS0E',\n",
       " 'https://www.youtube.com/watch?v=lNwfU94_JEs',\n",
       " 'https://www.youtube.com/watch?v=mHJKmiDWq3A',\n",
       " 'https://www.youtube.com/watch?v=dJUq0QuUVx0',\n",
       " 'https://www.youtube.com/watch?v=XexKfe2PXfM',\n",
       " 'https://www.youtube.com/watch?v=TQErZbQ7bRc',\n",
       " 'https://www.youtube.com/watch?v=vOT6X6FRrTI',\n",
       " 'https://www.youtube.com/watch?v=EXqa_ml4Ju8',\n",
       " 'https://www.youtube.com/watch?v=LdyhqZEC2EA',\n",
       " 'https://www.youtube.com/watch?v=LgKOkkT8dCw',\n",
       " 'https://www.youtube.com/watch?v=-FYvtZrRo54',\n",
       " 'https://www.youtube.com/watch?v=qGm2-B53guk',\n",
       " 'https://www.youtube.com/watch?v=AUfMYX3hmvw',\n",
       " 'https://www.youtube.com/watch?v=pW3ONQIheew',\n",
       " 'https://www.youtube.com/watch?v=NxCoTT36E-o',\n",
       " 'https://www.youtube.com/watch?v=biqgb4tf9MA',\n",
       " 'https://www.youtube.com/watch?v=XWu3ZruHgjQ',\n",
       " 'https://www.youtube.com/watch?v=TElsd9xFb3g',\n",
       " 'https://www.youtube.com/watch?v=psD8Fz3_ZFo',\n",
       " 'https://www.youtube.com/watch?v=rOZPypYMJLg',\n",
       " 'https://www.youtube.com/watch?v=_F_BXGZg4_U',\n",
       " 'https://www.youtube.com/watch?v=l8eKccYCsxk',\n",
       " 'https://www.youtube.com/watch?v=ozY4I6ZCIdg',\n",
       " 'https://www.youtube.com/watch?v=hWkGEjVJnY8',\n",
       " 'https://www.youtube.com/watch?v=Yv_YEy8IjRk',\n",
       " 'https://www.youtube.com/watch?v=ZUxIroQ1esU',\n",
       " 'https://www.youtube.com/watch?v=JhOsgUS6icQ',\n",
       " 'https://www.youtube.com/watch?v=sOncDHXhIec',\n",
       " 'https://www.youtube.com/watch?v=rBwghKw8r2w',\n",
       " 'https://www.youtube.com/watch?v=dN4Qo7tkeJc',\n",
       " 'https://www.youtube.com/watch?v=bYtsNlJTS-A',\n",
       " 'https://www.youtube.com/watch?v=Gh9HkS_-WRg',\n",
       " 'https://www.youtube.com/watch?v=NlVRgvRO7V8',\n",
       " 'https://www.youtube.com/watch?v=LdsMy0pJ1OY',\n",
       " 'https://www.youtube.com/watch?v=eVQIr-crE8E',\n",
       " 'https://www.youtube.com/watch?v=NQxZnF_i5cU',\n",
       " 'https://www.youtube.com/watch?v=Au_yL2nEHiE',\n",
       " 'https://www.youtube.com/watch?v=X83cDfwtFpw',\n",
       " 'https://www.youtube.com/watch?v=EqIQTN65IZs',\n",
       " 'https://www.youtube.com/watch?v=jCoeeAQg3Lg',\n",
       " 'https://www.youtube.com/watch?v=m7RbSNiYJgw',\n",
       " 'https://www.youtube.com/watch?v=8fVEMdHKmqM',\n",
       " 'https://www.youtube.com/watch?v=XYwkqdXVEwA',\n",
       " 'https://www.youtube.com/watch?v=XC6pFocflCI',\n",
       " 'https://www.youtube.com/watch?v=XgIMLUIOxiY',\n",
       " 'https://www.youtube.com/watch?v=kVwb8Ambo4U',\n",
       " 'https://www.youtube.com/watch?v=nOs5FKbISys',\n",
       " 'https://www.youtube.com/watch?v=uTb-OU1qp_8',\n",
       " 'https://www.youtube.com/watch?v=H3b2rEdub8A',\n",
       " 'https://www.youtube.com/watch?v=OZRDVw40b9E',\n",
       " 'https://www.youtube.com/watch?v=VUAQsotJcGk',\n",
       " 'https://www.youtube.com/watch?v=PSs2c56Vuuk',\n",
       " 'https://www.youtube.com/watch?v=WhUfhOBKjEU',\n",
       " 'https://www.youtube.com/watch?v=ozeljnpMffI',\n",
       " 'https://www.youtube.com/watch?v=A0n3E1jyAuM',\n",
       " 'https://www.youtube.com/watch?v=uUI5V9DXGkw',\n",
       " 'https://www.youtube.com/watch?v=X8kCyM4XhsM',\n",
       " 'https://www.youtube.com/watch?v=7m6VlY6Dlqk',\n",
       " 'https://www.youtube.com/watch?v=a_lEMYvacIA',\n",
       " 'https://www.youtube.com/watch?v=v8pWt1dlVIc',\n",
       " 'https://www.youtube.com/watch?v=Un6CT2wsFGE',\n",
       " 'https://www.youtube.com/watch?v=cWViZScbP-k',\n",
       " 'https://www.youtube.com/watch?v=YofmRBlv6vE',\n",
       " 'https://www.youtube.com/watch?v=YUyv61q3-B0',\n",
       " 'https://www.youtube.com/watch?v=943Vhw6rfXQ',\n",
       " 'https://www.youtube.com/watch?v=ZLVPYiS_Edk',\n",
       " 'https://www.youtube.com/watch?v=kkgwCG8PRGU',\n",
       " 'https://www.youtube.com/watch?v=2IoSQ4V6oSo',\n",
       " 'https://www.youtube.com/watch?v=mhdbimSq4XE',\n",
       " 'https://www.youtube.com/watch?v=3_xVAhVo2co',\n",
       " 'https://www.youtube.com/watch?v=lAXVjo2kitk',\n",
       " 'https://www.youtube.com/watch?v=Bszvsp1tazY',\n",
       " 'https://www.youtube.com/watch?v=M0seB-NjoaM',\n",
       " 'https://www.youtube.com/watch?v=hyPgLwZLezM',\n",
       " 'https://www.youtube.com/watch?v=JOgK4KZBTcQ',\n",
       " 'https://www.youtube.com/watch?v=OpF6TZJcpLA',\n",
       " 'https://www.youtube.com/watch?v=c4fqFTuU3p4',\n",
       " 'https://www.youtube.com/watch?v=3CBgmBk1rvo',\n",
       " 'https://www.youtube.com/watch?v=KtWLGFSUbg0',\n",
       " 'https://www.youtube.com/watch?v=iQ1lGOt9SlQ',\n",
       " 'https://www.youtube.com/watch?v=UA2L6dN1jlU',\n",
       " 'https://www.youtube.com/watch?v=G83OL86ojaU',\n",
       " 'https://www.youtube.com/watch?v=v6VXQ0ffIAs',\n",
       " 'https://www.youtube.com/watch?v=HZ2BbisBwf0',\n",
       " 'https://www.youtube.com/watch?v=Ar6hSITP-w4',\n",
       " 'https://www.youtube.com/watch?v=A97paK3yryo',\n",
       " 'https://www.youtube.com/watch?v=xihR5eKI2B4',\n",
       " 'https://www.youtube.com/watch?v=TFN_DXL14D4',\n",
       " 'https://www.youtube.com/watch?v=8qn7zRZMEN8',\n",
       " 'https://www.youtube.com/watch?v=l5ef7TZbCXY',\n",
       " 'https://www.youtube.com/watch?v=jSmmY8VIq-I',\n",
       " 'https://www.youtube.com/watch?v=6AdVJIuz8JA',\n",
       " 'https://www.youtube.com/watch?v=uJan469HPp4',\n",
       " 'https://www.youtube.com/watch?v=DV10Byr79fc',\n",
       " 'https://www.youtube.com/watch?v=vQ7IEtNcZN4',\n",
       " 'https://www.youtube.com/watch?v=IkNu3ccAh_M',\n",
       " 'https://www.youtube.com/watch?v=jLbYXOyUvFo',\n",
       " 'https://www.youtube.com/watch?v=kJdta28q7vg',\n",
       " 'https://www.youtube.com/watch?v=BsMdZI1v86Y',\n",
       " 'https://www.youtube.com/watch?v=uDiVZVhDL8Q',\n",
       " 'https://www.youtube.com/watch?v=ufGN2AMkyj0',\n",
       " 'https://www.youtube.com/watch?v=BGKkQ5OE7fg',\n",
       " 'https://www.youtube.com/watch?v=Rz9Esp8oWw0',\n",
       " 'https://www.youtube.com/watch?v=UrckZng5Ag8',\n",
       " 'https://www.youtube.com/watch?v=nGEyElk8IC4',\n",
       " 'https://www.youtube.com/watch?v=XTh1e3g2Ls8',\n",
       " 'https://www.youtube.com/watch?v=Jy2Uyso8A20',\n",
       " 'https://www.youtube.com/watch?v=8abSWJVzEkE',\n",
       " 'https://www.youtube.com/watch?v=ZtOJsdRNaqA',\n",
       " 'https://www.youtube.com/watch?v=Yi3oOpmb6aU',\n",
       " 'https://www.youtube.com/watch?v=lfbq_f0rRa8',\n",
       " 'https://www.youtube.com/watch?v=Ds0RHHNvZ60',\n",
       " 'https://www.youtube.com/watch?v=bewjcH1A-yE',\n",
       " 'https://www.youtube.com/watch?v=g2BXIb6E5cI',\n",
       " 'https://www.youtube.com/watch?v=HCpmbhS2kBs',\n",
       " 'https://www.youtube.com/watch?v=Xu5x-vn8J6M',\n",
       " 'https://www.youtube.com/watch?v=ozK39v9KneY',\n",
       " 'https://www.youtube.com/watch?v=QMoOr4ZxZrU',\n",
       " 'https://www.youtube.com/watch?v=UV7Y8P8NdK8',\n",
       " 'https://www.youtube.com/watch?v=EJB2y06lqtI',\n",
       " 'https://www.youtube.com/watch?v=JZ4UQIcDNTg',\n",
       " 'https://www.youtube.com/watch?v=n4Vm1lf6PlU',\n",
       " 'https://www.youtube.com/watch?v=QogyEMIW-yQ',\n",
       " 'https://www.youtube.com/watch?v=IhxRpKc2UaY',\n",
       " 'https://www.youtube.com/watch?v=Jdc99GyJJ_Y',\n",
       " 'https://www.youtube.com/watch?v=_pm0LsMQhcg',\n",
       " 'https://www.youtube.com/watch?v=7_9TePp1DGU',\n",
       " 'https://www.youtube.com/watch?v=jPQncmz7cUw',\n",
       " 'https://www.youtube.com/watch?v=QmB4GtIy0SY',\n",
       " 'https://www.youtube.com/watch?v=rl5mVI7jEK0',\n",
       " 'https://www.youtube.com/watch?v=ZmDvUYqtbdk',\n",
       " 'https://www.youtube.com/watch?v=3qw-OGilHjQ',\n",
       " 'https://www.youtube.com/watch?v=baL7OrGWlxs',\n",
       " 'https://www.youtube.com/watch?v=t1bPLK8R86k',\n",
       " 'https://www.youtube.com/watch?v=2EBDrDzCOTI',\n",
       " 'https://www.youtube.com/watch?v=S92nm1CxlQg',\n",
       " 'https://www.youtube.com/watch?v=_e6p9SvPsiY',\n",
       " 'https://www.youtube.com/watch?v=FVn1kDtMCMc',\n",
       " 'https://www.youtube.com/watch?v=VdPfv1up0WI',\n",
       " 'https://www.youtube.com/watch?v=2qI1CcMa55c',\n",
       " 'https://www.youtube.com/watch?v=NhWZFYk2H8s',\n",
       " 'https://www.youtube.com/watch?v=xDTgziqNwSQ',\n",
       " 'https://www.youtube.com/watch?v=Q-YJygPurPM',\n",
       " 'https://www.youtube.com/watch?v=xTN2ktqKSBk',\n",
       " 'https://www.youtube.com/watch?v=h0lZBdmB7dY',\n",
       " 'https://www.youtube.com/watch?v=TomrEJdULxo',\n",
       " 'https://www.youtube.com/watch?v=w5Ji-VEnbmc',\n",
       " 'https://www.youtube.com/watch?v=RrgIeAVN1mQ',\n",
       " 'https://www.youtube.com/watch?v=pud5sRDPSVQ',\n",
       " 'https://www.youtube.com/watch?v=zkuyLylCtjU',\n",
       " 'https://www.youtube.com/watch?v=LOkOWyJcEoE',\n",
       " 'https://www.youtube.com/watch?v=ylc-od8jfM8',\n",
       " 'https://www.youtube.com/watch?v=nw9vurfkR9c',\n",
       " 'https://www.youtube.com/watch?v=99CcviQchd8',\n",
       " 'https://www.youtube.com/watch?v=qlui6pu_U2Y',\n",
       " 'https://www.youtube.com/watch?v=Lie2H3QlJ_Y',\n",
       " 'https://www.youtube.com/watch?v=5WXwzyz4W-8',\n",
       " 'https://www.youtube.com/watch?v=mBpaH16mgd4',\n",
       " 'https://www.youtube.com/watch?v=yvMJh6f3piE',\n",
       " 'https://www.youtube.com/watch?v=BjN95ZK3Igc',\n",
       " 'https://www.youtube.com/watch?v=DcirMIhfiXs',\n",
       " 'https://www.youtube.com/watch?v=N9IIOfPb1hk',\n",
       " 'https://www.youtube.com/watch?v=3D_UtHKubXs',\n",
       " 'https://www.youtube.com/watch?v=WJRhB39BxWQ',\n",
       " 'https://www.youtube.com/watch?v=v2jffErQE4E',\n",
       " 'https://www.youtube.com/watch?v=vCecJWz3Qm8',\n",
       " 'https://www.youtube.com/watch?v=huDnMnoTuCE',\n",
       " 'https://www.youtube.com/watch?v=w54b0Z9HvUA',\n",
       " 'https://www.youtube.com/watch?v=fXRbnSWJVJY',\n",
       " 'https://www.youtube.com/watch?v=p1vEUy_G9sw',\n",
       " 'https://www.youtube.com/watch?v=DQuS_cZg2wI',\n",
       " 'https://www.youtube.com/watch?v=krTHVKkUEYw',\n",
       " 'https://www.youtube.com/watch?v=aagMarhcSww',\n",
       " 'https://www.youtube.com/watch?v=GVECbcKUio4',\n",
       " 'https://www.youtube.com/watch?v=ejT7oNtySbo',\n",
       " 'https://www.youtube.com/watch?v=jcbHc7IFlzA',\n",
       " 'https://www.youtube.com/watch?v=jo8XTr_FIlI',\n",
       " 'https://www.youtube.com/watch?v=UBDCFrLyFbU',\n",
       " 'https://www.youtube.com/watch?v=YOu2wMMvYKg',\n",
       " 'https://www.youtube.com/watch?v=sHZw3G8zFfI',\n",
       " 'https://www.youtube.com/watch?v=mAPcW_YDUKQ',\n",
       " 'https://www.youtube.com/watch?v=Dryfm9VaEw4',\n",
       " 'https://www.youtube.com/watch?v=QhVPWYkad6g',\n",
       " 'https://www.youtube.com/watch?v=ispBXqC34Ak',\n",
       " 'https://www.youtube.com/watch?v=jH1PVSY0Tyk',\n",
       " 'https://www.youtube.com/watch?v=AL9-apISbPc',\n",
       " 'https://www.youtube.com/watch?v=8ILJ1rMBJAM',\n",
       " 'https://www.youtube.com/watch?v=TBB9NTkYxoM',\n",
       " 'https://www.youtube.com/watch?v=SiaPnnVE5UY',\n",
       " 'https://www.youtube.com/watch?v=gnFh__0Rw70',\n",
       " 'https://www.youtube.com/watch?v=XZhypKN51iU',\n",
       " 'https://www.youtube.com/watch?v=DXmF901A_oY',\n",
       " 'https://www.youtube.com/watch?v=JthXUktKLuo',\n",
       " 'https://www.youtube.com/watch?v=eVsbFgzK404',\n",
       " 'https://www.youtube.com/watch?v=oIEswlF6Fno',\n",
       " 'https://www.youtube.com/watch?v=OGQ1iWx91cY',\n",
       " 'https://www.youtube.com/watch?v=kr9QnYf2zK4',\n",
       " 'https://www.youtube.com/watch?v=FUs-pzmYzaE',\n",
       " 'https://www.youtube.com/watch?v=RuJi1U0zdd8',\n",
       " 'https://www.youtube.com/watch?v=kx7wSSZVQaE',\n",
       " 'https://www.youtube.com/watch?v=BNboXcQGrH4',\n",
       " 'https://www.youtube.com/watch?v=DLIHRyBiLBs',\n",
       " 'https://www.youtube.com/watch?v=UiQllA4e2jg',\n",
       " 'https://www.youtube.com/watch?v=yn7Sm8aoxYo',\n",
       " 'https://www.youtube.com/watch?v=HGxZRuBPzF8',\n",
       " 'https://www.youtube.com/watch?v=1JEscmiuiSo',\n",
       " 'https://www.youtube.com/watch?v=dHSU5QS_MW4',\n",
       " 'https://www.youtube.com/watch?v=22uJMgOxw3o',\n",
       " 'https://www.youtube.com/watch?v=mJgrX0woJ1g',\n",
       " 'https://www.youtube.com/watch?v=KWI8YNRBtso',\n",
       " 'https://www.youtube.com/watch?v=p3l_NXm-4r8',\n",
       " 'https://www.youtube.com/watch?v=Id_HSzb4A40',\n",
       " 'https://www.youtube.com/watch?v=7eIWF4_FucA',\n",
       " 'https://www.youtube.com/watch?v=JCD8hnc25eU',\n",
       " 'https://www.youtube.com/watch?v=F_CfUuvpqWI',\n",
       " 'https://www.youtube.com/watch?v=mS8N0eKOD3k',\n",
       " 'https://www.youtube.com/watch?v=ch_vJ15TeI0',\n",
       " 'https://www.youtube.com/watch?v=MAu1fPqlivk',\n",
       " 'https://www.youtube.com/watch?v=5x2QxTdgKZg',\n",
       " 'https://www.youtube.com/watch?v=fQITiqnjfWI',\n",
       " 'https://www.youtube.com/watch?v=z-vgp6S6CyY',\n",
       " 'https://www.youtube.com/watch?v=lZyn8VTsBtE',\n",
       " 'https://www.youtube.com/watch?v=4aUpyG2zon4',\n",
       " 'https://www.youtube.com/watch?v=SZvAGsTCWcQ',\n",
       " 'https://www.youtube.com/watch?v=aX6v1Vgv5Rc']"
      ]
     },
     "execution_count": 11,
     "metadata": {},
     "output_type": "execute_result"
    }
   ],
   "source": [
    "links[:-1]"
   ]
  },
  {
   "cell_type": "code",
   "execution_count": null,
   "id": "12bd3105",
   "metadata": {
    "scrolled": true
   },
   "outputs": [
    {
     "name": "stderr",
     "output_type": "stream",
     "text": [
      "\r",
      "  0%|                                                                                          | 0/242 [00:00<?, ?it/s]"
     ]
    },
    {
     "name": "stdout",
     "output_type": "stream",
     "text": [
      "https://www.youtube.com/watch?v=8XTeqM2MUXs\n"
     ]
    },
    {
     "name": "stderr",
     "output_type": "stream",
     "text": [
      "\r",
      "  0%|▎                                                                               | 1/242 [00:31<2:06:21, 31.46s/it]"
     ]
    },
    {
     "name": "stdout",
     "output_type": "stream",
     "text": [
      "https://www.youtube.com/watch?v=ZZeLRt4zvB8\n"
     ]
    },
    {
     "name": "stderr",
     "output_type": "stream",
     "text": [
      "\r",
      "  1%|▋                                                                               | 2/242 [01:03<2:06:24, 31.60s/it]"
     ]
    },
    {
     "name": "stdout",
     "output_type": "stream",
     "text": [
      "https://www.youtube.com/watch?v=r-W1h4Y_oVM\n"
     ]
    },
    {
     "name": "stderr",
     "output_type": "stream",
     "text": [
      "\r",
      "  1%|▉                                                                               | 3/242 [01:36<2:08:51, 32.35s/it]"
     ]
    },
    {
     "name": "stdout",
     "output_type": "stream",
     "text": [
      "https://www.youtube.com/watch?v=V2ymuelT3Ec\n"
     ]
    },
    {
     "name": "stderr",
     "output_type": "stream",
     "text": [
      "\r",
      "  2%|█▎                                                                              | 4/242 [02:10<2:11:22, 33.12s/it]"
     ]
    },
    {
     "name": "stdout",
     "output_type": "stream",
     "text": [
      "https://www.youtube.com/watch?v=Uv3tUueaDa0\n"
     ]
    },
    {
     "name": "stderr",
     "output_type": "stream",
     "text": [
      "\r",
      "  2%|█▋                                                                              | 5/242 [02:43<2:09:41, 32.83s/it]"
     ]
    },
    {
     "name": "stdout",
     "output_type": "stream",
     "text": [
      "https://www.youtube.com/watch?v=GVu36rlz1Is\n"
     ]
    },
    {
     "name": "stderr",
     "output_type": "stream",
     "text": [
      "\r",
      "  2%|█▉                                                                              | 6/242 [03:17<2:10:47, 33.25s/it]"
     ]
    },
    {
     "name": "stdout",
     "output_type": "stream",
     "text": [
      "https://www.youtube.com/watch?v=FAjoPtjsk6Q\n"
     ]
    },
    {
     "name": "stderr",
     "output_type": "stream",
     "text": [
      "\r",
      "  3%|██▎                                                                             | 7/242 [03:51<2:11:54, 33.68s/it]"
     ]
    },
    {
     "name": "stdout",
     "output_type": "stream",
     "text": [
      "https://www.youtube.com/watch?v=3wAjzF1TVOk\n"
     ]
    },
    {
     "name": "stderr",
     "output_type": "stream",
     "text": [
      "\r",
      "  3%|██▋                                                                             | 8/242 [04:24<2:09:55, 33.31s/it]"
     ]
    },
    {
     "name": "stdout",
     "output_type": "stream",
     "text": [
      "https://www.youtube.com/watch?v=VOqHUQ9_YFI\n"
     ]
    },
    {
     "name": "stderr",
     "output_type": "stream",
     "text": [
      "\r",
      "  4%|██▉                                                                             | 9/242 [04:56<2:07:40, 32.88s/it]"
     ]
    },
    {
     "name": "stdout",
     "output_type": "stream",
     "text": [
      "https://www.youtube.com/watch?v=U8iXyi_VSuQ\n"
     ]
    },
    {
     "name": "stderr",
     "output_type": "stream",
     "text": [
      "\r",
      "  4%|███▎                                                                           | 10/242 [05:27<2:05:33, 32.47s/it]"
     ]
    },
    {
     "name": "stdout",
     "output_type": "stream",
     "text": [
      "https://www.youtube.com/watch?v=bKlGETTIam8\n"
     ]
    },
    {
     "name": "stderr",
     "output_type": "stream",
     "text": [
      "\r",
      "  5%|███▌                                                                           | 11/242 [05:56<2:00:17, 31.25s/it]"
     ]
    },
    {
     "name": "stdout",
     "output_type": "stream",
     "text": [
      "https://www.youtube.com/watch?v=b6WvYSsNeQk\n"
     ]
    },
    {
     "name": "stderr",
     "output_type": "stream",
     "text": [
      "\r",
      "  5%|███▉                                                                           | 12/242 [06:27<1:59:54, 31.28s/it]"
     ]
    },
    {
     "name": "stdout",
     "output_type": "stream",
     "text": [
      "https://www.youtube.com/watch?v=xsRtQ9Zzmas\n"
     ]
    },
    {
     "name": "stderr",
     "output_type": "stream",
     "text": [
      "\r",
      "  5%|████▏                                                                          | 13/242 [06:57<1:58:08, 30.96s/it]"
     ]
    },
    {
     "name": "stdout",
     "output_type": "stream",
     "text": [
      "https://www.youtube.com/watch?v=tmpaaI1s2Y0\n"
     ]
    },
    {
     "name": "stderr",
     "output_type": "stream",
     "text": [
      "\r",
      "  6%|████▌                                                                          | 14/242 [07:28<1:57:31, 30.93s/it]"
     ]
    },
    {
     "name": "stdout",
     "output_type": "stream",
     "text": [
      "https://www.youtube.com/watch?v=llJvJVNZ4KQ\n"
     ]
    },
    {
     "name": "stderr",
     "output_type": "stream",
     "text": [
      "\r",
      "  6%|████▉                                                                          | 15/242 [08:00<1:57:43, 31.12s/it]"
     ]
    },
    {
     "name": "stdout",
     "output_type": "stream",
     "text": [
      "https://www.youtube.com/watch?v=m5aLPICp7m0\n"
     ]
    },
    {
     "name": "stderr",
     "output_type": "stream",
     "text": [
      "\r",
      "  7%|█████▏                                                                         | 16/242 [08:33<1:59:47, 31.80s/it]"
     ]
    },
    {
     "name": "stdout",
     "output_type": "stream",
     "text": [
      "https://www.youtube.com/watch?v=n0v31TyGS0E\n"
     ]
    },
    {
     "name": "stderr",
     "output_type": "stream",
     "text": [
      "\r",
      "  7%|█████▌                                                                         | 17/242 [09:06<2:00:14, 32.06s/it]"
     ]
    },
    {
     "name": "stdout",
     "output_type": "stream",
     "text": [
      "https://www.youtube.com/watch?v=lNwfU94_JEs\n"
     ]
    },
    {
     "name": "stderr",
     "output_type": "stream",
     "text": [
      "\r",
      "  7%|█████▉                                                                         | 18/242 [09:37<1:58:50, 31.83s/it]"
     ]
    },
    {
     "name": "stdout",
     "output_type": "stream",
     "text": [
      "https://www.youtube.com/watch?v=mHJKmiDWq3A\n"
     ]
    },
    {
     "name": "stderr",
     "output_type": "stream",
     "text": [
      "\r",
      "  8%|██████▏                                                                        | 19/242 [10:10<1:59:24, 32.13s/it]"
     ]
    },
    {
     "name": "stdout",
     "output_type": "stream",
     "text": [
      "https://www.youtube.com/watch?v=dJUq0QuUVx0\n"
     ]
    },
    {
     "name": "stderr",
     "output_type": "stream",
     "text": [
      "\r",
      "  8%|██████▌                                                                        | 20/242 [10:41<1:57:52, 31.86s/it]"
     ]
    },
    {
     "name": "stdout",
     "output_type": "stream",
     "text": [
      "https://www.youtube.com/watch?v=XexKfe2PXfM\n"
     ]
    },
    {
     "name": "stderr",
     "output_type": "stream",
     "text": [
      "\r",
      "  9%|██████▊                                                                        | 21/242 [11:12<1:56:39, 31.67s/it]"
     ]
    },
    {
     "name": "stdout",
     "output_type": "stream",
     "text": [
      "https://www.youtube.com/watch?v=TQErZbQ7bRc\n"
     ]
    },
    {
     "name": "stderr",
     "output_type": "stream",
     "text": [
      "\r",
      "  9%|███████▏                                                                       | 22/242 [11:44<1:55:45, 31.57s/it]"
     ]
    },
    {
     "name": "stdout",
     "output_type": "stream",
     "text": [
      "https://www.youtube.com/watch?v=vOT6X6FRrTI\n"
     ]
    },
    {
     "name": "stderr",
     "output_type": "stream",
     "text": [
      "\r",
      " 10%|███████▌                                                                       | 23/242 [12:16<1:55:59, 31.78s/it]"
     ]
    },
    {
     "name": "stdout",
     "output_type": "stream",
     "text": [
      "https://www.youtube.com/watch?v=EXqa_ml4Ju8\n"
     ]
    },
    {
     "name": "stderr",
     "output_type": "stream",
     "text": [
      "\r",
      " 10%|███████▊                                                                       | 24/242 [12:48<1:55:29, 31.79s/it]"
     ]
    },
    {
     "name": "stdout",
     "output_type": "stream",
     "text": [
      "https://www.youtube.com/watch?v=LdyhqZEC2EA\n"
     ]
    },
    {
     "name": "stderr",
     "output_type": "stream",
     "text": [
      "\r",
      " 10%|████████▏                                                                      | 25/242 [13:19<1:54:55, 31.78s/it]"
     ]
    },
    {
     "name": "stdout",
     "output_type": "stream",
     "text": [
      "https://www.youtube.com/watch?v=LgKOkkT8dCw\n"
     ]
    },
    {
     "name": "stderr",
     "output_type": "stream",
     "text": [
      "\r",
      " 11%|████████▍                                                                      | 26/242 [13:51<1:53:58, 31.66s/it]"
     ]
    },
    {
     "name": "stdout",
     "output_type": "stream",
     "text": [
      "https://www.youtube.com/watch?v=-FYvtZrRo54\n"
     ]
    },
    {
     "name": "stderr",
     "output_type": "stream",
     "text": [
      "\r",
      " 11%|████████▊                                                                      | 27/242 [14:24<1:54:35, 31.98s/it]"
     ]
    },
    {
     "name": "stdout",
     "output_type": "stream",
     "text": [
      "https://www.youtube.com/watch?v=qGm2-B53guk\n"
     ]
    },
    {
     "name": "stderr",
     "output_type": "stream",
     "text": [
      "\r",
      " 12%|█████████▏                                                                     | 28/242 [14:53<1:51:03, 31.14s/it]"
     ]
    },
    {
     "name": "stdout",
     "output_type": "stream",
     "text": [
      "https://www.youtube.com/watch?v=AUfMYX3hmvw\n"
     ]
    },
    {
     "name": "stderr",
     "output_type": "stream",
     "text": [
      "\r",
      " 12%|█████████▍                                                                     | 29/242 [15:25<1:51:20, 31.36s/it]"
     ]
    },
    {
     "name": "stdout",
     "output_type": "stream",
     "text": [
      "https://www.youtube.com/watch?v=pW3ONQIheew\n"
     ]
    },
    {
     "name": "stderr",
     "output_type": "stream",
     "text": [
      "\r",
      " 12%|█████████▊                                                                     | 30/242 [15:56<1:51:01, 31.42s/it]"
     ]
    },
    {
     "name": "stdout",
     "output_type": "stream",
     "text": [
      "https://www.youtube.com/watch?v=NxCoTT36E-o\n"
     ]
    },
    {
     "name": "stderr",
     "output_type": "stream",
     "text": [
      "\r",
      " 13%|██████████                                                                     | 31/242 [16:28<1:51:00, 31.57s/it]"
     ]
    },
    {
     "name": "stdout",
     "output_type": "stream",
     "text": [
      "https://www.youtube.com/watch?v=biqgb4tf9MA\n"
     ]
    },
    {
     "name": "stderr",
     "output_type": "stream",
     "text": [
      "\r",
      " 13%|██████████▍                                                                    | 32/242 [17:00<1:50:26, 31.56s/it]"
     ]
    },
    {
     "name": "stdout",
     "output_type": "stream",
     "text": [
      "https://www.youtube.com/watch?v=XWu3ZruHgjQ\n"
     ]
    },
    {
     "name": "stderr",
     "output_type": "stream",
     "text": [
      "\r",
      " 14%|██████████▊                                                                    | 33/242 [17:30<1:48:24, 31.12s/it]"
     ]
    },
    {
     "name": "stdout",
     "output_type": "stream",
     "text": [
      "https://www.youtube.com/watch?v=TElsd9xFb3g\n"
     ]
    },
    {
     "name": "stderr",
     "output_type": "stream",
     "text": [
      "\r",
      " 14%|███████████                                                                    | 34/242 [18:01<1:48:14, 31.22s/it]"
     ]
    },
    {
     "name": "stdout",
     "output_type": "stream",
     "text": [
      "https://www.youtube.com/watch?v=psD8Fz3_ZFo\n"
     ]
    },
    {
     "name": "stderr",
     "output_type": "stream",
     "text": [
      "\r",
      " 14%|███████████▍                                                                   | 35/242 [18:33<1:48:03, 31.32s/it]"
     ]
    },
    {
     "name": "stdout",
     "output_type": "stream",
     "text": [
      "https://www.youtube.com/watch?v=rOZPypYMJLg\n"
     ]
    },
    {
     "name": "stderr",
     "output_type": "stream",
     "text": [
      "\r",
      " 15%|███████████▊                                                                   | 36/242 [19:04<1:47:55, 31.43s/it]"
     ]
    },
    {
     "name": "stdout",
     "output_type": "stream",
     "text": [
      "https://www.youtube.com/watch?v=_F_BXGZg4_U\n"
     ]
    },
    {
     "name": "stderr",
     "output_type": "stream",
     "text": [
      "\r",
      " 15%|████████████                                                                   | 37/242 [19:36<1:47:25, 31.44s/it]"
     ]
    },
    {
     "name": "stdout",
     "output_type": "stream",
     "text": [
      "https://www.youtube.com/watch?v=l8eKccYCsxk\n"
     ]
    },
    {
     "name": "stderr",
     "output_type": "stream",
     "text": [
      "\r",
      " 16%|████████████▍                                                                  | 38/242 [20:08<1:47:18, 31.56s/it]"
     ]
    },
    {
     "name": "stdout",
     "output_type": "stream",
     "text": [
      "https://www.youtube.com/watch?v=ozY4I6ZCIdg\n"
     ]
    },
    {
     "name": "stderr",
     "output_type": "stream",
     "text": [
      "\r",
      " 16%|████████████▋                                                                  | 39/242 [20:37<1:44:30, 30.89s/it]"
     ]
    },
    {
     "name": "stdout",
     "output_type": "stream",
     "text": [
      "https://www.youtube.com/watch?v=hWkGEjVJnY8\n"
     ]
    },
    {
     "name": "stderr",
     "output_type": "stream",
     "text": [
      "\r",
      " 17%|█████████████                                                                  | 40/242 [21:09<1:44:49, 31.14s/it]"
     ]
    },
    {
     "name": "stdout",
     "output_type": "stream",
     "text": [
      "https://www.youtube.com/watch?v=Yv_YEy8IjRk\n"
     ]
    },
    {
     "name": "stderr",
     "output_type": "stream",
     "text": [
      "\r",
      " 17%|█████████████▍                                                                 | 41/242 [21:39<1:43:36, 30.93s/it]"
     ]
    },
    {
     "name": "stdout",
     "output_type": "stream",
     "text": [
      "https://www.youtube.com/watch?v=ZUxIroQ1esU\n"
     ]
    },
    {
     "name": "stderr",
     "output_type": "stream",
     "text": [
      "\r",
      " 17%|█████████████▋                                                                 | 42/242 [22:09<1:41:40, 30.50s/it]"
     ]
    },
    {
     "name": "stdout",
     "output_type": "stream",
     "text": [
      "https://www.youtube.com/watch?v=JhOsgUS6icQ\n"
     ]
    },
    {
     "name": "stderr",
     "output_type": "stream",
     "text": [
      "\r",
      " 18%|██████████████                                                                 | 43/242 [22:40<1:42:20, 30.86s/it]"
     ]
    },
    {
     "name": "stdout",
     "output_type": "stream",
     "text": [
      "https://www.youtube.com/watch?v=sOncDHXhIec\n"
     ]
    },
    {
     "name": "stderr",
     "output_type": "stream",
     "text": [
      "\r",
      " 18%|██████████████▎                                                                | 44/242 [23:12<1:43:00, 31.22s/it]"
     ]
    },
    {
     "name": "stdout",
     "output_type": "stream",
     "text": [
      "https://www.youtube.com/watch?v=rBwghKw8r2w\n"
     ]
    },
    {
     "name": "stderr",
     "output_type": "stream",
     "text": [
      "\r",
      " 19%|██████████████▋                                                                | 45/242 [23:44<1:42:56, 31.35s/it]"
     ]
    },
    {
     "name": "stdout",
     "output_type": "stream",
     "text": [
      "https://www.youtube.com/watch?v=dN4Qo7tkeJc\n"
     ]
    },
    {
     "name": "stderr",
     "output_type": "stream",
     "text": [
      "\r",
      " 19%|███████████████                                                                | 46/242 [24:18<1:45:23, 32.26s/it]"
     ]
    },
    {
     "name": "stdout",
     "output_type": "stream",
     "text": [
      "https://www.youtube.com/watch?v=bYtsNlJTS-A\n"
     ]
    },
    {
     "name": "stderr",
     "output_type": "stream",
     "text": [
      "\r",
      " 19%|███████████████▎                                                               | 47/242 [24:50<1:44:32, 32.16s/it]"
     ]
    },
    {
     "name": "stdout",
     "output_type": "stream",
     "text": [
      "https://www.youtube.com/watch?v=Gh9HkS_-WRg\n"
     ]
    },
    {
     "name": "stderr",
     "output_type": "stream",
     "text": [
      "\r",
      " 20%|███████████████▋                                                               | 48/242 [25:25<1:46:20, 32.89s/it]"
     ]
    },
    {
     "name": "stdout",
     "output_type": "stream",
     "text": [
      "https://www.youtube.com/watch?v=NlVRgvRO7V8\n"
     ]
    },
    {
     "name": "stderr",
     "output_type": "stream",
     "text": [
      "\r",
      " 20%|███████████████▉                                                               | 49/242 [25:57<1:45:01, 32.65s/it]"
     ]
    },
    {
     "name": "stdout",
     "output_type": "stream",
     "text": [
      "https://www.youtube.com/watch?v=LdsMy0pJ1OY\n"
     ]
    },
    {
     "name": "stderr",
     "output_type": "stream",
     "text": [
      "\r",
      " 21%|████████████████▎                                                              | 50/242 [26:31<1:45:46, 33.05s/it]"
     ]
    },
    {
     "name": "stdout",
     "output_type": "stream",
     "text": [
      "https://www.youtube.com/watch?v=eVQIr-crE8E\n"
     ]
    },
    {
     "name": "stderr",
     "output_type": "stream",
     "text": [
      "\r",
      " 21%|████████████████▋                                                              | 51/242 [27:05<1:45:38, 33.19s/it]"
     ]
    },
    {
     "name": "stdout",
     "output_type": "stream",
     "text": [
      "https://www.youtube.com/watch?v=NQxZnF_i5cU\n"
     ]
    },
    {
     "name": "stderr",
     "output_type": "stream",
     "text": [
      "\r",
      " 21%|████████████████▉                                                              | 52/242 [27:39<1:46:16, 33.56s/it]"
     ]
    },
    {
     "name": "stdout",
     "output_type": "stream",
     "text": [
      "https://www.youtube.com/watch?v=Au_yL2nEHiE\n"
     ]
    },
    {
     "name": "stderr",
     "output_type": "stream",
     "text": [
      "\r",
      " 22%|█████████████████▎                                                             | 53/242 [28:11<1:43:52, 32.98s/it]"
     ]
    },
    {
     "name": "stdout",
     "output_type": "stream",
     "text": [
      "https://www.youtube.com/watch?v=X83cDfwtFpw\n"
     ]
    },
    {
     "name": "stderr",
     "output_type": "stream",
     "text": [
      "\r",
      " 22%|█████████████████▋                                                             | 54/242 [28:43<1:42:23, 32.68s/it]"
     ]
    },
    {
     "name": "stdout",
     "output_type": "stream",
     "text": [
      "https://www.youtube.com/watch?v=EqIQTN65IZs\n"
     ]
    },
    {
     "name": "stderr",
     "output_type": "stream",
     "text": [
      "\r",
      " 23%|█████████████████▉                                                             | 55/242 [29:14<1:40:52, 32.37s/it]"
     ]
    },
    {
     "name": "stdout",
     "output_type": "stream",
     "text": [
      "https://www.youtube.com/watch?v=jCoeeAQg3Lg\n"
     ]
    },
    {
     "name": "stderr",
     "output_type": "stream",
     "text": [
      "\r",
      " 23%|██████████████████▎                                                            | 56/242 [29:49<1:42:57, 33.21s/it]"
     ]
    },
    {
     "name": "stdout",
     "output_type": "stream",
     "text": [
      "https://www.youtube.com/watch?v=m7RbSNiYJgw\n"
     ]
    },
    {
     "name": "stderr",
     "output_type": "stream",
     "text": [
      "\r",
      " 24%|██████████████████▌                                                            | 57/242 [30:21<1:41:05, 32.79s/it]"
     ]
    },
    {
     "name": "stdout",
     "output_type": "stream",
     "text": [
      "https://www.youtube.com/watch?v=8fVEMdHKmqM\n"
     ]
    },
    {
     "name": "stderr",
     "output_type": "stream",
     "text": [
      "\r",
      " 24%|██████████████████▉                                                            | 58/242 [30:53<1:39:38, 32.49s/it]"
     ]
    },
    {
     "name": "stdout",
     "output_type": "stream",
     "text": [
      "https://www.youtube.com/watch?v=XYwkqdXVEwA\n"
     ]
    },
    {
     "name": "stderr",
     "output_type": "stream",
     "text": [
      "\r",
      " 24%|███████████████████▎                                                           | 59/242 [31:26<1:39:39, 32.67s/it]"
     ]
    },
    {
     "name": "stdout",
     "output_type": "stream",
     "text": [
      "https://www.youtube.com/watch?v=XC6pFocflCI\n"
     ]
    },
    {
     "name": "stderr",
     "output_type": "stream",
     "text": [
      "\r",
      " 25%|███████████████████▌                                                           | 60/242 [32:00<1:39:57, 32.96s/it]"
     ]
    },
    {
     "name": "stdout",
     "output_type": "stream",
     "text": [
      "https://www.youtube.com/watch?v=XgIMLUIOxiY\n"
     ]
    },
    {
     "name": "stderr",
     "output_type": "stream",
     "text": [
      "\r",
      " 25%|███████████████████▉                                                           | 61/242 [32:32<1:38:25, 32.63s/it]"
     ]
    },
    {
     "name": "stdout",
     "output_type": "stream",
     "text": [
      "https://www.youtube.com/watch?v=kVwb8Ambo4U\n"
     ]
    },
    {
     "name": "stderr",
     "output_type": "stream",
     "text": [
      "\r",
      " 26%|████████████████████▏                                                          | 62/242 [33:01<1:34:49, 31.61s/it]"
     ]
    },
    {
     "name": "stdout",
     "output_type": "stream",
     "text": [
      "https://www.youtube.com/watch?v=nOs5FKbISys\n"
     ]
    },
    {
     "name": "stderr",
     "output_type": "stream",
     "text": [
      "\r",
      " 26%|████████████████████▌                                                          | 63/242 [33:30<1:32:27, 30.99s/it]"
     ]
    },
    {
     "name": "stdout",
     "output_type": "stream",
     "text": [
      "https://www.youtube.com/watch?v=uTb-OU1qp_8\n"
     ]
    },
    {
     "name": "stderr",
     "output_type": "stream",
     "text": [
      "\r",
      " 26%|████████████████████▉                                                          | 64/242 [34:00<1:30:22, 30.46s/it]"
     ]
    },
    {
     "name": "stdout",
     "output_type": "stream",
     "text": [
      "https://www.youtube.com/watch?v=H3b2rEdub8A\n"
     ]
    },
    {
     "name": "stderr",
     "output_type": "stream",
     "text": [
      "\r",
      " 27%|█████████████████████▏                                                         | 65/242 [34:31<1:30:41, 30.75s/it]"
     ]
    },
    {
     "name": "stdout",
     "output_type": "stream",
     "text": [
      "https://www.youtube.com/watch?v=OZRDVw40b9E\n"
     ]
    },
    {
     "name": "stderr",
     "output_type": "stream",
     "text": [
      "\r",
      " 27%|█████████████████████▌                                                         | 66/242 [35:03<1:30:57, 31.01s/it]"
     ]
    },
    {
     "name": "stdout",
     "output_type": "stream",
     "text": [
      "https://www.youtube.com/watch?v=VUAQsotJcGk\n"
     ]
    },
    {
     "name": "stderr",
     "output_type": "stream",
     "text": [
      "\r",
      " 28%|█████████████████████▊                                                         | 67/242 [35:35<1:31:29, 31.37s/it]"
     ]
    },
    {
     "name": "stdout",
     "output_type": "stream",
     "text": [
      "https://www.youtube.com/watch?v=PSs2c56Vuuk\n"
     ]
    },
    {
     "name": "stderr",
     "output_type": "stream",
     "text": [
      "\r",
      " 28%|██████████████████████▏                                                        | 68/242 [36:08<1:32:39, 31.95s/it]"
     ]
    },
    {
     "name": "stdout",
     "output_type": "stream",
     "text": [
      "https://www.youtube.com/watch?v=WhUfhOBKjEU\n"
     ]
    },
    {
     "name": "stderr",
     "output_type": "stream",
     "text": [
      "\r",
      " 29%|██████████████████████▌                                                        | 69/242 [36:40<1:32:23, 32.04s/it]"
     ]
    },
    {
     "name": "stdout",
     "output_type": "stream",
     "text": [
      "https://www.youtube.com/watch?v=ozeljnpMffI\n"
     ]
    },
    {
     "name": "stderr",
     "output_type": "stream",
     "text": [
      "\r",
      " 29%|██████████████████████▊                                                        | 70/242 [37:12<1:31:49, 32.03s/it]"
     ]
    },
    {
     "name": "stdout",
     "output_type": "stream",
     "text": [
      "https://www.youtube.com/watch?v=A0n3E1jyAuM\n"
     ]
    },
    {
     "name": "stderr",
     "output_type": "stream",
     "text": [
      "\r",
      " 29%|███████████████████████▏                                                       | 71/242 [37:44<1:31:06, 31.97s/it]"
     ]
    },
    {
     "name": "stdout",
     "output_type": "stream",
     "text": [
      "https://www.youtube.com/watch?v=uUI5V9DXGkw\n"
     ]
    },
    {
     "name": "stderr",
     "output_type": "stream",
     "text": [
      "\r",
      " 30%|███████████████████████▌                                                       | 72/242 [38:18<1:31:57, 32.46s/it]"
     ]
    },
    {
     "name": "stdout",
     "output_type": "stream",
     "text": [
      "https://www.youtube.com/watch?v=X8kCyM4XhsM\n"
     ]
    },
    {
     "name": "stderr",
     "output_type": "stream",
     "text": [
      "\r",
      " 30%|███████████████████████▊                                                       | 73/242 [38:49<1:30:38, 32.18s/it]"
     ]
    },
    {
     "name": "stdout",
     "output_type": "stream",
     "text": [
      "https://www.youtube.com/watch?v=7m6VlY6Dlqk\n"
     ]
    },
    {
     "name": "stderr",
     "output_type": "stream",
     "text": [
      "\r",
      " 31%|████████████████████████▏                                                      | 74/242 [39:21<1:29:40, 32.02s/it]"
     ]
    },
    {
     "name": "stdout",
     "output_type": "stream",
     "text": [
      "https://www.youtube.com/watch?v=a_lEMYvacIA\n"
     ]
    },
    {
     "name": "stderr",
     "output_type": "stream",
     "text": [
      "\r",
      " 31%|████████████████████████▍                                                      | 75/242 [39:53<1:29:25, 32.13s/it]"
     ]
    },
    {
     "name": "stdout",
     "output_type": "stream",
     "text": [
      "https://www.youtube.com/watch?v=v8pWt1dlVIc\n"
     ]
    },
    {
     "name": "stderr",
     "output_type": "stream",
     "text": [
      "\r",
      " 31%|████████████████████████▊                                                      | 76/242 [40:31<1:33:32, 33.81s/it]"
     ]
    },
    {
     "name": "stdout",
     "output_type": "stream",
     "text": [
      "https://www.youtube.com/watch?v=Un6CT2wsFGE\n"
     ]
    },
    {
     "name": "stderr",
     "output_type": "stream",
     "text": [
      "\r",
      " 32%|█████████████████████████▏                                                     | 77/242 [41:04<1:31:48, 33.39s/it]"
     ]
    },
    {
     "name": "stdout",
     "output_type": "stream",
     "text": [
      "https://www.youtube.com/watch?v=cWViZScbP-k\n"
     ]
    },
    {
     "name": "stderr",
     "output_type": "stream",
     "text": [
      "\r",
      " 32%|█████████████████████████▍                                                     | 78/242 [41:37<1:31:41, 33.54s/it]"
     ]
    },
    {
     "name": "stdout",
     "output_type": "stream",
     "text": [
      "https://www.youtube.com/watch?v=YofmRBlv6vE\n"
     ]
    },
    {
     "name": "stderr",
     "output_type": "stream",
     "text": [
      "\r",
      " 33%|█████████████████████████▊                                                     | 79/242 [42:09<1:29:49, 33.06s/it]"
     ]
    },
    {
     "name": "stdout",
     "output_type": "stream",
     "text": [
      "https://www.youtube.com/watch?v=YUyv61q3-B0\n"
     ]
    },
    {
     "name": "stderr",
     "output_type": "stream",
     "text": [
      "\r",
      " 33%|██████████████████████████                                                     | 80/242 [42:46<1:32:25, 34.23s/it]"
     ]
    },
    {
     "name": "stdout",
     "output_type": "stream",
     "text": [
      "https://www.youtube.com/watch?v=943Vhw6rfXQ\n"
     ]
    },
    {
     "name": "stderr",
     "output_type": "stream",
     "text": [
      "\r",
      " 33%|██████████████████████████▍                                                    | 81/242 [43:18<1:30:05, 33.57s/it]"
     ]
    },
    {
     "name": "stdout",
     "output_type": "stream",
     "text": [
      "https://www.youtube.com/watch?v=ZLVPYiS_Edk\n"
     ]
    },
    {
     "name": "stderr",
     "output_type": "stream",
     "text": [
      "\r",
      " 34%|██████████████████████████▊                                                    | 82/242 [43:50<1:28:04, 33.03s/it]"
     ]
    },
    {
     "name": "stdout",
     "output_type": "stream",
     "text": [
      "https://www.youtube.com/watch?v=kkgwCG8PRGU\n"
     ]
    },
    {
     "name": "stderr",
     "output_type": "stream",
     "text": [
      "\r",
      " 34%|███████████████████████████                                                    | 83/242 [44:22<1:26:51, 32.78s/it]"
     ]
    },
    {
     "name": "stdout",
     "output_type": "stream",
     "text": [
      "https://www.youtube.com/watch?v=2IoSQ4V6oSo\n"
     ]
    },
    {
     "name": "stderr",
     "output_type": "stream",
     "text": [
      "\r",
      " 35%|███████████████████████████▍                                                   | 84/242 [44:54<1:25:48, 32.58s/it]"
     ]
    },
    {
     "name": "stdout",
     "output_type": "stream",
     "text": [
      "https://www.youtube.com/watch?v=mhdbimSq4XE\n"
     ]
    },
    {
     "name": "stderr",
     "output_type": "stream",
     "text": [
      "\r",
      " 35%|███████████████████████████▋                                                   | 85/242 [45:24<1:23:13, 31.80s/it]"
     ]
    },
    {
     "name": "stdout",
     "output_type": "stream",
     "text": [
      "https://www.youtube.com/watch?v=3_xVAhVo2co\n"
     ]
    },
    {
     "name": "stderr",
     "output_type": "stream",
     "text": [
      "\r",
      " 36%|████████████████████████████                                                   | 86/242 [45:56<1:22:21, 31.67s/it]"
     ]
    },
    {
     "name": "stdout",
     "output_type": "stream",
     "text": [
      "https://www.youtube.com/watch?v=lAXVjo2kitk\n"
     ]
    },
    {
     "name": "stderr",
     "output_type": "stream",
     "text": [
      "\r",
      " 36%|████████████████████████████▍                                                  | 87/242 [46:27<1:21:49, 31.67s/it]"
     ]
    },
    {
     "name": "stdout",
     "output_type": "stream",
     "text": [
      "https://www.youtube.com/watch?v=Bszvsp1tazY\n"
     ]
    },
    {
     "name": "stderr",
     "output_type": "stream",
     "text": [
      "\r",
      " 36%|████████████████████████████▋                                                  | 88/242 [46:59<1:20:55, 31.53s/it]"
     ]
    },
    {
     "name": "stdout",
     "output_type": "stream",
     "text": [
      "https://www.youtube.com/watch?v=M0seB-NjoaM\n"
     ]
    },
    {
     "name": "stderr",
     "output_type": "stream",
     "text": [
      "\r",
      " 37%|█████████████████████████████                                                  | 89/242 [47:28<1:18:32, 30.80s/it]"
     ]
    },
    {
     "name": "stdout",
     "output_type": "stream",
     "text": [
      "https://www.youtube.com/watch?v=hyPgLwZLezM\n"
     ]
    },
    {
     "name": "stderr",
     "output_type": "stream",
     "text": [
      "\r",
      " 37%|█████████████████████████████▍                                                 | 90/242 [47:58<1:17:31, 30.60s/it]"
     ]
    },
    {
     "name": "stdout",
     "output_type": "stream",
     "text": [
      "https://www.youtube.com/watch?v=JOgK4KZBTcQ\n"
     ]
    },
    {
     "name": "stderr",
     "output_type": "stream",
     "text": [
      "\r",
      " 38%|█████████████████████████████▋                                                 | 91/242 [48:29<1:17:35, 30.83s/it]"
     ]
    },
    {
     "name": "stdout",
     "output_type": "stream",
     "text": [
      "https://www.youtube.com/watch?v=OpF6TZJcpLA\n"
     ]
    },
    {
     "name": "stderr",
     "output_type": "stream",
     "text": [
      "\r",
      " 38%|██████████████████████████████                                                 | 92/242 [48:59<1:15:58, 30.39s/it]"
     ]
    },
    {
     "name": "stdout",
     "output_type": "stream",
     "text": [
      "https://www.youtube.com/watch?v=c4fqFTuU3p4\n"
     ]
    },
    {
     "name": "stderr",
     "output_type": "stream",
     "text": [
      "\r",
      " 38%|██████████████████████████████▎                                                | 93/242 [49:30<1:16:24, 30.77s/it]"
     ]
    },
    {
     "name": "stdout",
     "output_type": "stream",
     "text": [
      "https://www.youtube.com/watch?v=3CBgmBk1rvo\n"
     ]
    },
    {
     "name": "stderr",
     "output_type": "stream",
     "text": [
      "\r",
      " 39%|██████████████████████████████▋                                                | 94/242 [50:00<1:14:48, 30.33s/it]"
     ]
    },
    {
     "name": "stdout",
     "output_type": "stream",
     "text": [
      "https://www.youtube.com/watch?v=KtWLGFSUbg0\n"
     ]
    },
    {
     "name": "stderr",
     "output_type": "stream",
     "text": [
      "\r",
      " 39%|███████████████████████████████                                                | 95/242 [50:34<1:17:21, 31.57s/it]"
     ]
    },
    {
     "name": "stdout",
     "output_type": "stream",
     "text": [
      "https://www.youtube.com/watch?v=iQ1lGOt9SlQ\n"
     ]
    },
    {
     "name": "stderr",
     "output_type": "stream",
     "text": [
      "\r",
      " 40%|███████████████████████████████▎                                               | 96/242 [51:06<1:17:05, 31.68s/it]"
     ]
    },
    {
     "name": "stdout",
     "output_type": "stream",
     "text": [
      "https://www.youtube.com/watch?v=UA2L6dN1jlU\n"
     ]
    },
    {
     "name": "stderr",
     "output_type": "stream",
     "text": [
      "\r",
      " 40%|███████████████████████████████▋                                               | 97/242 [51:39<1:17:22, 32.02s/it]"
     ]
    },
    {
     "name": "stdout",
     "output_type": "stream",
     "text": [
      "https://www.youtube.com/watch?v=G83OL86ojaU\n"
     ]
    },
    {
     "name": "stderr",
     "output_type": "stream",
     "text": [
      "\r",
      " 40%|███████████████████████████████▉                                               | 98/242 [52:09<1:15:34, 31.49s/it]"
     ]
    },
    {
     "name": "stdout",
     "output_type": "stream",
     "text": [
      "https://www.youtube.com/watch?v=v6VXQ0ffIAs\n"
     ]
    },
    {
     "name": "stderr",
     "output_type": "stream",
     "text": [
      "\r",
      " 41%|████████████████████████████████▎                                              | 99/242 [52:42<1:16:06, 31.93s/it]"
     ]
    },
    {
     "name": "stdout",
     "output_type": "stream",
     "text": [
      "https://www.youtube.com/watch?v=HZ2BbisBwf0\n"
     ]
    },
    {
     "name": "stderr",
     "output_type": "stream",
     "text": [
      "\r",
      " 41%|████████████████████████████████▏                                             | 100/242 [53:14<1:15:36, 31.94s/it]"
     ]
    },
    {
     "name": "stdout",
     "output_type": "stream",
     "text": [
      "https://www.youtube.com/watch?v=Ar6hSITP-w4\n"
     ]
    },
    {
     "name": "stderr",
     "output_type": "stream",
     "text": [
      "\r",
      " 42%|████████████████████████████████▌                                             | 101/242 [53:46<1:15:21, 32.06s/it]"
     ]
    },
    {
     "name": "stdout",
     "output_type": "stream",
     "text": [
      "https://www.youtube.com/watch?v=A97paK3yryo\n"
     ]
    },
    {
     "name": "stderr",
     "output_type": "stream",
     "text": [
      "\r",
      " 42%|████████████████████████████████▉                                             | 102/242 [54:16<1:12:56, 31.26s/it]"
     ]
    },
    {
     "name": "stdout",
     "output_type": "stream",
     "text": [
      "https://www.youtube.com/watch?v=xihR5eKI2B4\n"
     ]
    },
    {
     "name": "stderr",
     "output_type": "stream",
     "text": [
      "\r",
      " 43%|█████████████████████████████████▏                                            | 103/242 [54:50<1:14:14, 32.05s/it]"
     ]
    },
    {
     "name": "stdout",
     "output_type": "stream",
     "text": [
      "https://www.youtube.com/watch?v=TFN_DXL14D4\n"
     ]
    },
    {
     "name": "stderr",
     "output_type": "stream",
     "text": [
      "\r",
      " 43%|█████████████████████████████████▌                                            | 104/242 [55:21<1:13:26, 31.93s/it]"
     ]
    },
    {
     "name": "stdout",
     "output_type": "stream",
     "text": [
      "https://www.youtube.com/watch?v=8qn7zRZMEN8\n"
     ]
    },
    {
     "name": "stderr",
     "output_type": "stream",
     "text": [
      "\r",
      " 43%|█████████████████████████████████▊                                            | 105/242 [55:53<1:13:05, 32.01s/it]"
     ]
    },
    {
     "name": "stdout",
     "output_type": "stream",
     "text": [
      "https://www.youtube.com/watch?v=l5ef7TZbCXY\n"
     ]
    },
    {
     "name": "stderr",
     "output_type": "stream",
     "text": [
      "\r",
      " 44%|██████████████████████████████████▏                                           | 106/242 [56:25<1:12:18, 31.90s/it]"
     ]
    },
    {
     "name": "stdout",
     "output_type": "stream",
     "text": [
      "https://www.youtube.com/watch?v=jSmmY8VIq-I\n"
     ]
    },
    {
     "name": "stderr",
     "output_type": "stream",
     "text": [
      "\r",
      " 44%|██████████████████████████████████▍                                           | 107/242 [56:54<1:10:02, 31.13s/it]"
     ]
    },
    {
     "name": "stdout",
     "output_type": "stream",
     "text": [
      "https://www.youtube.com/watch?v=6AdVJIuz8JA\n"
     ]
    },
    {
     "name": "stderr",
     "output_type": "stream",
     "text": [
      "\r",
      " 45%|██████████████████████████████████▊                                           | 108/242 [57:27<1:10:40, 31.64s/it]"
     ]
    },
    {
     "name": "stdout",
     "output_type": "stream",
     "text": [
      "https://www.youtube.com/watch?v=uJan469HPp4\n"
     ]
    },
    {
     "name": "stderr",
     "output_type": "stream",
     "text": [
      "\r",
      " 45%|███████████████████████████████████▏                                          | 109/242 [57:59<1:10:28, 31.79s/it]"
     ]
    },
    {
     "name": "stdout",
     "output_type": "stream",
     "text": [
      "https://www.youtube.com/watch?v=DV10Byr79fc\n"
     ]
    },
    {
     "name": "stderr",
     "output_type": "stream",
     "text": [
      "\r",
      " 45%|███████████████████████████████████▍                                          | 110/242 [58:29<1:08:33, 31.17s/it]"
     ]
    },
    {
     "name": "stdout",
     "output_type": "stream",
     "text": [
      "https://www.youtube.com/watch?v=vQ7IEtNcZN4\n"
     ]
    },
    {
     "name": "stderr",
     "output_type": "stream",
     "text": [
      "\r",
      " 46%|███████████████████████████████████▊                                          | 111/242 [59:01<1:08:47, 31.51s/it]"
     ]
    },
    {
     "name": "stdout",
     "output_type": "stream",
     "text": [
      "https://www.youtube.com/watch?v=IkNu3ccAh_M\n"
     ]
    },
    {
     "name": "stderr",
     "output_type": "stream",
     "text": [
      "\r",
      " 46%|████████████████████████████████████                                          | 112/242 [59:33<1:08:27, 31.60s/it]"
     ]
    },
    {
     "name": "stdout",
     "output_type": "stream",
     "text": [
      "https://www.youtube.com/watch?v=jLbYXOyUvFo\n"
     ]
    },
    {
     "name": "stderr",
     "output_type": "stream",
     "text": [
      "\r",
      " 47%|███████████████████████████████████▍                                        | 113/242 [1:00:08<1:09:48, 32.47s/it]"
     ]
    },
    {
     "name": "stdout",
     "output_type": "stream",
     "text": [
      "https://www.youtube.com/watch?v=kJdta28q7vg\n"
     ]
    },
    {
     "name": "stderr",
     "output_type": "stream",
     "text": [
      "\r",
      " 47%|███████████████████████████████████▊                                        | 114/242 [1:00:41<1:09:55, 32.77s/it]"
     ]
    },
    {
     "name": "stdout",
     "output_type": "stream",
     "text": [
      "https://www.youtube.com/watch?v=BsMdZI1v86Y\n"
     ]
    },
    {
     "name": "stderr",
     "output_type": "stream",
     "text": [
      "\r",
      " 48%|████████████████████████████████████                                        | 115/242 [1:01:13<1:08:43, 32.47s/it]"
     ]
    },
    {
     "name": "stdout",
     "output_type": "stream",
     "text": [
      "https://www.youtube.com/watch?v=uDiVZVhDL8Q\n"
     ]
    },
    {
     "name": "stderr",
     "output_type": "stream",
     "text": [
      "\r",
      " 48%|████████████████████████████████████▍                                       | 116/242 [1:01:45<1:07:49, 32.30s/it]"
     ]
    },
    {
     "name": "stdout",
     "output_type": "stream",
     "text": [
      "https://www.youtube.com/watch?v=ufGN2AMkyj0\n"
     ]
    },
    {
     "name": "stderr",
     "output_type": "stream",
     "text": [
      "\r",
      " 48%|████████████████████████████████████▋                                       | 117/242 [1:02:13<1:04:37, 31.02s/it]"
     ]
    },
    {
     "name": "stdout",
     "output_type": "stream",
     "text": [
      "https://www.youtube.com/watch?v=BGKkQ5OE7fg\n"
     ]
    },
    {
     "name": "stderr",
     "output_type": "stream",
     "text": [
      "\r",
      " 49%|█████████████████████████████████████                                       | 118/242 [1:02:46<1:05:12, 31.55s/it]"
     ]
    },
    {
     "name": "stdout",
     "output_type": "stream",
     "text": [
      "https://www.youtube.com/watch?v=Rz9Esp8oWw0\n"
     ]
    },
    {
     "name": "stderr",
     "output_type": "stream",
     "text": [
      "\r",
      " 49%|█████████████████████████████████████▎                                      | 119/242 [1:03:18<1:04:50, 31.63s/it]"
     ]
    },
    {
     "name": "stdout",
     "output_type": "stream",
     "text": [
      "https://www.youtube.com/watch?v=UrckZng5Ag8\n"
     ]
    },
    {
     "name": "stderr",
     "output_type": "stream",
     "text": [
      "\r",
      " 50%|█████████████████████████████████████▋                                      | 120/242 [1:03:49<1:04:11, 31.57s/it]"
     ]
    },
    {
     "name": "stdout",
     "output_type": "stream",
     "text": [
      "https://www.youtube.com/watch?v=nGEyElk8IC4\n"
     ]
    },
    {
     "name": "stderr",
     "output_type": "stream",
     "text": [
      "\r",
      " 50%|██████████████████████████████████████                                      | 121/242 [1:04:21<1:04:01, 31.75s/it]"
     ]
    },
    {
     "name": "stdout",
     "output_type": "stream",
     "text": [
      "https://www.youtube.com/watch?v=XTh1e3g2Ls8\n"
     ]
    },
    {
     "name": "stderr",
     "output_type": "stream",
     "text": [
      "\r",
      " 50%|██████████████████████████████████████▎                                     | 122/242 [1:04:49<1:01:07, 30.57s/it]"
     ]
    },
    {
     "name": "stdout",
     "output_type": "stream",
     "text": [
      "https://www.youtube.com/watch?v=Jy2Uyso8A20\n"
     ]
    },
    {
     "name": "stderr",
     "output_type": "stream",
     "text": [
      "\r",
      " 51%|███████████████████████████████████████▋                                      | 123/242 [1:05:16<58:40, 29.59s/it]"
     ]
    },
    {
     "name": "stdout",
     "output_type": "stream",
     "text": [
      "https://www.youtube.com/watch?v=8abSWJVzEkE\n"
     ]
    },
    {
     "name": "stderr",
     "output_type": "stream",
     "text": [
      "\r",
      " 51%|███████████████████████████████████████▉                                      | 124/242 [1:05:48<59:20, 30.17s/it]"
     ]
    },
    {
     "name": "stdout",
     "output_type": "stream",
     "text": [
      "https://www.youtube.com/watch?v=ZtOJsdRNaqA\n"
     ]
    },
    {
     "name": "stderr",
     "output_type": "stream",
     "text": [
      "\r",
      " 52%|████████████████████████████████████████▎                                     | 125/242 [1:06:20<59:49, 30.68s/it]"
     ]
    },
    {
     "name": "stdout",
     "output_type": "stream",
     "text": [
      "https://www.youtube.com/watch?v=Yi3oOpmb6aU\n"
     ]
    },
    {
     "name": "stderr",
     "output_type": "stream",
     "text": [
      "\r",
      " 52%|████████████████████████████████████████▌                                     | 126/242 [1:06:51<59:40, 30.87s/it]"
     ]
    },
    {
     "name": "stdout",
     "output_type": "stream",
     "text": [
      "https://www.youtube.com/watch?v=lfbq_f0rRa8\n"
     ]
    },
    {
     "name": "stderr",
     "output_type": "stream",
     "text": [
      "\r",
      " 52%|████████████████████████████████████████▉                                     | 127/242 [1:07:23<59:37, 31.11s/it]"
     ]
    },
    {
     "name": "stdout",
     "output_type": "stream",
     "text": [
      "https://www.youtube.com/watch?v=Ds0RHHNvZ60\n"
     ]
    },
    {
     "name": "stderr",
     "output_type": "stream",
     "text": [
      "\r",
      " 53%|████████████████████████████████████████▏                                   | 128/242 [1:07:56<1:00:33, 31.87s/it]"
     ]
    },
    {
     "name": "stdout",
     "output_type": "stream",
     "text": [
      "https://www.youtube.com/watch?v=bewjcH1A-yE\n"
     ]
    },
    {
     "name": "stderr",
     "output_type": "stream",
     "text": [
      "\r",
      " 53%|████████████████████████████████████████▌                                   | 129/242 [1:08:30<1:01:00, 32.39s/it]"
     ]
    },
    {
     "name": "stdout",
     "output_type": "stream",
     "text": [
      "https://www.youtube.com/watch?v=g2BXIb6E5cI\n"
     ]
    },
    {
     "name": "stderr",
     "output_type": "stream",
     "text": [
      "\r",
      " 54%|█████████████████████████████████████████▉                                    | 130/242 [1:08:59<58:49, 31.52s/it]"
     ]
    },
    {
     "name": "stdout",
     "output_type": "stream",
     "text": [
      "https://www.youtube.com/watch?v=HCpmbhS2kBs\n"
     ]
    },
    {
     "name": "stderr",
     "output_type": "stream",
     "text": [
      "\r",
      " 54%|██████████████████████████████████████████▏                                   | 131/242 [1:09:33<59:23, 32.10s/it]"
     ]
    },
    {
     "name": "stdout",
     "output_type": "stream",
     "text": [
      "https://www.youtube.com/watch?v=Xu5x-vn8J6M\n"
     ]
    },
    {
     "name": "stderr",
     "output_type": "stream",
     "text": [
      "\r",
      " 55%|██████████████████████████████████████████▌                                   | 132/242 [1:10:04<58:34, 31.95s/it]"
     ]
    },
    {
     "name": "stdout",
     "output_type": "stream",
     "text": [
      "https://www.youtube.com/watch?v=ozK39v9KneY\n"
     ]
    },
    {
     "name": "stderr",
     "output_type": "stream",
     "text": [
      "\r",
      " 55%|██████████████████████████████████████████▊                                   | 133/242 [1:10:36<57:47, 31.81s/it]"
     ]
    },
    {
     "name": "stdout",
     "output_type": "stream",
     "text": [
      "https://www.youtube.com/watch?v=QMoOr4ZxZrU\n"
     ]
    },
    {
     "name": "stderr",
     "output_type": "stream",
     "text": [
      "\r",
      " 55%|███████████████████████████████████████████▏                                  | 134/242 [1:11:07<57:04, 31.71s/it]"
     ]
    },
    {
     "name": "stdout",
     "output_type": "stream",
     "text": [
      "https://www.youtube.com/watch?v=UV7Y8P8NdK8\n"
     ]
    },
    {
     "name": "stderr",
     "output_type": "stream",
     "text": [
      "\r",
      " 56%|███████████████████████████████████████████▌                                  | 135/242 [1:11:40<56:51, 31.89s/it]"
     ]
    },
    {
     "name": "stdout",
     "output_type": "stream",
     "text": [
      "https://www.youtube.com/watch?v=EJB2y06lqtI\n"
     ]
    },
    {
     "name": "stderr",
     "output_type": "stream",
     "text": [
      "\r",
      " 56%|███████████████████████████████████████████▊                                  | 136/242 [1:12:11<56:05, 31.75s/it]"
     ]
    },
    {
     "name": "stdout",
     "output_type": "stream",
     "text": [
      "https://www.youtube.com/watch?v=JZ4UQIcDNTg\n"
     ]
    },
    {
     "name": "stderr",
     "output_type": "stream",
     "text": [
      "\r",
      " 57%|████████████████████████████████████████████▏                                 | 137/242 [1:12:43<55:36, 31.78s/it]"
     ]
    },
    {
     "name": "stdout",
     "output_type": "stream",
     "text": [
      "https://www.youtube.com/watch?v=n4Vm1lf6PlU\n"
     ]
    },
    {
     "name": "stderr",
     "output_type": "stream",
     "text": [
      "\r",
      " 57%|████████████████████████████████████████████▍                                 | 138/242 [1:13:14<54:53, 31.67s/it]"
     ]
    },
    {
     "name": "stdout",
     "output_type": "stream",
     "text": [
      "https://www.youtube.com/watch?v=QogyEMIW-yQ\n"
     ]
    },
    {
     "name": "stderr",
     "output_type": "stream",
     "text": [
      "\r",
      " 57%|████████████████████████████████████████████▊                                 | 139/242 [1:13:47<54:52, 31.97s/it]"
     ]
    },
    {
     "name": "stdout",
     "output_type": "stream",
     "text": [
      "https://www.youtube.com/watch?v=IhxRpKc2UaY\n"
     ]
    },
    {
     "name": "stderr",
     "output_type": "stream",
     "text": [
      "\r",
      " 58%|█████████████████████████████████████████████                                 | 140/242 [1:14:19<54:16, 31.92s/it]"
     ]
    },
    {
     "name": "stdout",
     "output_type": "stream",
     "text": [
      "https://www.youtube.com/watch?v=Jdc99GyJJ_Y\n"
     ]
    },
    {
     "name": "stderr",
     "output_type": "stream",
     "text": [
      "\r",
      " 58%|█████████████████████████████████████████████▍                                | 141/242 [1:14:52<54:07, 32.15s/it]"
     ]
    },
    {
     "name": "stdout",
     "output_type": "stream",
     "text": [
      "https://www.youtube.com/watch?v=_pm0LsMQhcg\n"
     ]
    },
    {
     "name": "stderr",
     "output_type": "stream",
     "text": [
      "\r",
      " 59%|█████████████████████████████████████████████▊                                | 142/242 [1:15:22<52:40, 31.60s/it]"
     ]
    },
    {
     "name": "stdout",
     "output_type": "stream",
     "text": [
      "https://www.youtube.com/watch?v=7_9TePp1DGU\n"
     ]
    },
    {
     "name": "stderr",
     "output_type": "stream",
     "text": [
      "\r",
      " 59%|██████████████████████████████████████████████                                | 143/242 [1:15:53<52:07, 31.59s/it]"
     ]
    },
    {
     "name": "stdout",
     "output_type": "stream",
     "text": [
      "https://www.youtube.com/watch?v=jPQncmz7cUw\n"
     ]
    },
    {
     "name": "stderr",
     "output_type": "stream",
     "text": [
      "\r",
      " 60%|██████████████████████████████████████████████▍                               | 144/242 [1:16:26<52:12, 31.96s/it]"
     ]
    },
    {
     "name": "stdout",
     "output_type": "stream",
     "text": [
      "https://www.youtube.com/watch?v=QmB4GtIy0SY\n"
     ]
    },
    {
     "name": "stderr",
     "output_type": "stream",
     "text": [
      "\r",
      " 60%|██████████████████████████████████████████████▋                               | 145/242 [1:17:00<52:33, 32.51s/it]"
     ]
    },
    {
     "name": "stdout",
     "output_type": "stream",
     "text": [
      "https://www.youtube.com/watch?v=rl5mVI7jEK0\n"
     ]
    },
    {
     "name": "stderr",
     "output_type": "stream",
     "text": [
      "\r",
      " 60%|███████████████████████████████████████████████                               | 146/242 [1:17:39<55:11, 34.49s/it]"
     ]
    },
    {
     "name": "stdout",
     "output_type": "stream",
     "text": [
      "https://www.youtube.com/watch?v=ZmDvUYqtbdk\n"
     ]
    },
    {
     "name": "stderr",
     "output_type": "stream",
     "text": [
      "\r",
      " 61%|███████████████████████████████████████████████▍                              | 147/242 [1:18:09<52:27, 33.13s/it]"
     ]
    },
    {
     "name": "stdout",
     "output_type": "stream",
     "text": [
      "https://www.youtube.com/watch?v=3qw-OGilHjQ\n"
     ]
    },
    {
     "name": "stderr",
     "output_type": "stream",
     "text": [
      "\r",
      " 61%|███████████████████████████████████████████████▋                              | 148/242 [1:18:43<52:28, 33.50s/it]"
     ]
    },
    {
     "name": "stdout",
     "output_type": "stream",
     "text": [
      "https://www.youtube.com/watch?v=baL7OrGWlxs\n"
     ]
    },
    {
     "name": "stderr",
     "output_type": "stream",
     "text": [
      "\r",
      " 62%|████████████████████████████████████████████████                              | 149/242 [1:19:15<51:02, 32.93s/it]"
     ]
    },
    {
     "name": "stdout",
     "output_type": "stream",
     "text": [
      "https://www.youtube.com/watch?v=t1bPLK8R86k\n"
     ]
    },
    {
     "name": "stderr",
     "output_type": "stream",
     "text": [
      "\r",
      " 62%|████████████████████████████████████████████████▎                             | 150/242 [1:19:47<49:48, 32.49s/it]"
     ]
    },
    {
     "name": "stdout",
     "output_type": "stream",
     "text": [
      "https://www.youtube.com/watch?v=2EBDrDzCOTI\n"
     ]
    },
    {
     "name": "stderr",
     "output_type": "stream",
     "text": [
      "\r",
      " 62%|████████████████████████████████████████████████▋                             | 151/242 [1:20:18<48:49, 32.19s/it]"
     ]
    },
    {
     "name": "stdout",
     "output_type": "stream",
     "text": [
      "https://www.youtube.com/watch?v=S92nm1CxlQg\n"
     ]
    },
    {
     "name": "stderr",
     "output_type": "stream",
     "text": [
      "\r",
      " 63%|████████████████████████████████████████████████▉                             | 152/242 [1:20:50<48:05, 32.06s/it]"
     ]
    },
    {
     "name": "stdout",
     "output_type": "stream",
     "text": [
      "https://www.youtube.com/watch?v=_e6p9SvPsiY\n"
     ]
    },
    {
     "name": "stderr",
     "output_type": "stream",
     "text": [
      "\r",
      " 63%|█████████████████████████████████████████████████▎                            | 153/242 [1:21:22<47:43, 32.18s/it]"
     ]
    },
    {
     "name": "stdout",
     "output_type": "stream",
     "text": [
      "https://www.youtube.com/watch?v=FVn1kDtMCMc\n"
     ]
    },
    {
     "name": "stderr",
     "output_type": "stream",
     "text": [
      "\r",
      " 64%|█████████████████████████████████████████████████▋                            | 154/242 [1:21:54<47:05, 32.11s/it]"
     ]
    },
    {
     "name": "stdout",
     "output_type": "stream",
     "text": [
      "https://www.youtube.com/watch?v=VdPfv1up0WI\n"
     ]
    },
    {
     "name": "stderr",
     "output_type": "stream",
     "text": [
      "\r",
      " 64%|█████████████████████████████████████████████████▉                            | 155/242 [1:22:28<47:16, 32.61s/it]"
     ]
    },
    {
     "name": "stdout",
     "output_type": "stream",
     "text": [
      "https://www.youtube.com/watch?v=2qI1CcMa55c\n"
     ]
    },
    {
     "name": "stderr",
     "output_type": "stream",
     "text": [
      "\r",
      " 64%|██████████████████████████████████████████████████▎                           | 156/242 [1:23:02<47:13, 32.94s/it]"
     ]
    },
    {
     "name": "stdout",
     "output_type": "stream",
     "text": [
      "https://www.youtube.com/watch?v=NhWZFYk2H8s\n"
     ]
    },
    {
     "name": "stderr",
     "output_type": "stream",
     "text": [
      "\r",
      " 65%|██████████████████████████████████████████████████▌                           | 157/242 [1:23:34<46:23, 32.75s/it]"
     ]
    },
    {
     "name": "stdout",
     "output_type": "stream",
     "text": [
      "https://www.youtube.com/watch?v=xDTgziqNwSQ\n"
     ]
    },
    {
     "name": "stderr",
     "output_type": "stream",
     "text": [
      "\r",
      " 65%|██████████████████████████████████████████████████▉                           | 158/242 [1:24:02<43:40, 31.20s/it]"
     ]
    },
    {
     "name": "stdout",
     "output_type": "stream",
     "text": [
      "https://www.youtube.com/watch?v=Q-YJygPurPM\n"
     ]
    },
    {
     "name": "stderr",
     "output_type": "stream",
     "text": [
      "\r",
      " 66%|███████████████████████████████████████████████████▏                          | 159/242 [1:24:36<44:21, 32.07s/it]"
     ]
    },
    {
     "name": "stdout",
     "output_type": "stream",
     "text": [
      "https://www.youtube.com/watch?v=xTN2ktqKSBk\n"
     ]
    },
    {
     "name": "stderr",
     "output_type": "stream",
     "text": [
      "\r",
      " 66%|███████████████████████████████████████████████████▌                          | 160/242 [1:25:08<43:45, 32.02s/it]"
     ]
    },
    {
     "name": "stdout",
     "output_type": "stream",
     "text": [
      "https://www.youtube.com/watch?v=h0lZBdmB7dY\n"
     ]
    },
    {
     "name": "stderr",
     "output_type": "stream",
     "text": [
      "\r",
      " 67%|███████████████████████████████████████████████████▉                          | 161/242 [1:25:41<43:54, 32.52s/it]"
     ]
    },
    {
     "name": "stdout",
     "output_type": "stream",
     "text": [
      "https://www.youtube.com/watch?v=TomrEJdULxo\n"
     ]
    },
    {
     "name": "stderr",
     "output_type": "stream",
     "text": [
      "\r",
      " 67%|████████████████████████████████████████████████████▏                         | 162/242 [1:26:15<43:56, 32.96s/it]"
     ]
    },
    {
     "name": "stdout",
     "output_type": "stream",
     "text": [
      "https://www.youtube.com/watch?v=w5Ji-VEnbmc\n"
     ]
    },
    {
     "name": "stderr",
     "output_type": "stream",
     "text": [
      "\r",
      " 67%|████████████████████████████████████████████████████▌                         | 163/242 [1:26:45<42:04, 31.96s/it]"
     ]
    },
    {
     "name": "stdout",
     "output_type": "stream",
     "text": [
      "https://www.youtube.com/watch?v=RrgIeAVN1mQ\n"
     ]
    },
    {
     "name": "stderr",
     "output_type": "stream",
     "text": [
      "\r",
      " 68%|████████████████████████████████████████████████████▊                         | 164/242 [1:27:18<42:05, 32.38s/it]"
     ]
    },
    {
     "name": "stdout",
     "output_type": "stream",
     "text": [
      "https://www.youtube.com/watch?v=pud5sRDPSVQ\n"
     ]
    },
    {
     "name": "stderr",
     "output_type": "stream",
     "text": [
      "\r",
      " 68%|█████████████████████████████████████████████████████▏                        | 165/242 [1:27:50<41:18, 32.19s/it]"
     ]
    },
    {
     "name": "stdout",
     "output_type": "stream",
     "text": [
      "https://www.youtube.com/watch?v=zkuyLylCtjU\n"
     ]
    },
    {
     "name": "stderr",
     "output_type": "stream",
     "text": [
      "\r",
      " 69%|█████████████████████████████████████████████████████▌                        | 166/242 [1:28:26<42:21, 33.44s/it]"
     ]
    },
    {
     "name": "stdout",
     "output_type": "stream",
     "text": [
      "https://www.youtube.com/watch?v=LOkOWyJcEoE\n"
     ]
    },
    {
     "name": "stderr",
     "output_type": "stream",
     "text": [
      "\r",
      " 69%|█████████████████████████████████████████████████████▊                        | 167/242 [1:29:17<48:08, 38.52s/it]"
     ]
    },
    {
     "name": "stdout",
     "output_type": "stream",
     "text": [
      "https://www.youtube.com/watch?v=ylc-od8jfM8\n"
     ]
    },
    {
     "name": "stderr",
     "output_type": "stream",
     "text": [
      "\r",
      " 69%|██████████████████████████████████████████████████████▏                       | 168/242 [1:29:48<44:56, 36.44s/it]"
     ]
    },
    {
     "name": "stdout",
     "output_type": "stream",
     "text": [
      "https://www.youtube.com/watch?v=nw9vurfkR9c\n"
     ]
    },
    {
     "name": "stderr",
     "output_type": "stream",
     "text": [
      "\r",
      " 70%|██████████████████████████████████████████████████████▍                       | 169/242 [1:30:20<42:34, 34.99s/it]"
     ]
    },
    {
     "name": "stdout",
     "output_type": "stream",
     "text": [
      "https://www.youtube.com/watch?v=99CcviQchd8\n"
     ]
    },
    {
     "name": "stderr",
     "output_type": "stream",
     "text": [
      "\r",
      " 70%|██████████████████████████████████████████████████████▊                       | 170/242 [1:30:54<41:29, 34.58s/it]"
     ]
    },
    {
     "name": "stdout",
     "output_type": "stream",
     "text": [
      "https://www.youtube.com/watch?v=qlui6pu_U2Y\n"
     ]
    },
    {
     "name": "stderr",
     "output_type": "stream",
     "text": [
      "\r",
      " 71%|███████████████████████████████████████████████████████                       | 171/242 [1:31:25<39:52, 33.69s/it]"
     ]
    },
    {
     "name": "stdout",
     "output_type": "stream",
     "text": [
      "https://www.youtube.com/watch?v=Lie2H3QlJ_Y\n"
     ]
    },
    {
     "name": "stderr",
     "output_type": "stream",
     "text": [
      "\r",
      " 71%|███████████████████████████████████████████████████████▍                      | 172/242 [1:31:59<39:19, 33.71s/it]"
     ]
    },
    {
     "name": "stdout",
     "output_type": "stream",
     "text": [
      "https://www.youtube.com/watch?v=5WXwzyz4W-8\n"
     ]
    },
    {
     "name": "stderr",
     "output_type": "stream",
     "text": [
      "\r",
      " 71%|███████████████████████████████████████████████████████▊                      | 173/242 [1:32:31<38:03, 33.09s/it]"
     ]
    },
    {
     "name": "stdout",
     "output_type": "stream",
     "text": [
      "https://www.youtube.com/watch?v=mBpaH16mgd4\n"
     ]
    },
    {
     "name": "stderr",
     "output_type": "stream",
     "text": [
      "\r",
      " 72%|████████████████████████████████████████████████████████                      | 174/242 [1:33:02<37:03, 32.70s/it]"
     ]
    },
    {
     "name": "stdout",
     "output_type": "stream",
     "text": [
      "https://www.youtube.com/watch?v=yvMJh6f3piE\n"
     ]
    },
    {
     "name": "stderr",
     "output_type": "stream",
     "text": [
      "\r",
      " 72%|████████████████████████████████████████████████████████▍                     | 175/242 [1:33:32<35:26, 31.74s/it]"
     ]
    },
    {
     "name": "stdout",
     "output_type": "stream",
     "text": [
      "https://www.youtube.com/watch?v=BjN95ZK3Igc\n"
     ]
    },
    {
     "name": "stderr",
     "output_type": "stream",
     "text": [
      "\r",
      " 73%|████████████████████████████████████████████████████████▋                     | 176/242 [1:34:04<35:09, 31.96s/it]"
     ]
    },
    {
     "name": "stdout",
     "output_type": "stream",
     "text": [
      "https://www.youtube.com/watch?v=DcirMIhfiXs\n"
     ]
    },
    {
     "name": "stderr",
     "output_type": "stream",
     "text": [
      "\r",
      " 73%|█████████████████████████████████████████████████████████                     | 177/242 [1:34:39<35:22, 32.66s/it]"
     ]
    },
    {
     "name": "stdout",
     "output_type": "stream",
     "text": [
      "https://www.youtube.com/watch?v=N9IIOfPb1hk\n"
     ]
    },
    {
     "name": "stderr",
     "output_type": "stream",
     "text": [
      "\r",
      " 74%|█████████████████████████████████████████████████████████▎                    | 178/242 [1:35:10<34:28, 32.32s/it]"
     ]
    },
    {
     "name": "stdout",
     "output_type": "stream",
     "text": [
      "https://www.youtube.com/watch?v=3D_UtHKubXs\n"
     ]
    },
    {
     "name": "stderr",
     "output_type": "stream",
     "text": [
      "\r",
      " 74%|█████████████████████████████████████████████████████████▋                    | 179/242 [1:35:44<34:31, 32.88s/it]"
     ]
    },
    {
     "name": "stdout",
     "output_type": "stream",
     "text": [
      "https://www.youtube.com/watch?v=WJRhB39BxWQ\n"
     ]
    },
    {
     "name": "stderr",
     "output_type": "stream",
     "text": [
      "\r",
      " 74%|██████████████████████████████████████████████████████████                    | 180/242 [1:36:21<35:04, 33.95s/it]"
     ]
    },
    {
     "name": "stdout",
     "output_type": "stream",
     "text": [
      "https://www.youtube.com/watch?v=v2jffErQE4E\n"
     ]
    },
    {
     "name": "stderr",
     "output_type": "stream",
     "text": [
      "\r",
      " 75%|██████████████████████████████████████████████████████████▎                   | 181/242 [1:36:52<33:48, 33.25s/it]"
     ]
    },
    {
     "name": "stdout",
     "output_type": "stream",
     "text": [
      "https://www.youtube.com/watch?v=vCecJWz3Qm8\n"
     ]
    },
    {
     "name": "stderr",
     "output_type": "stream",
     "text": [
      "\r",
      " 75%|██████████████████████████████████████████████████████████▋                   | 182/242 [1:37:24<32:43, 32.73s/it]"
     ]
    },
    {
     "name": "stdout",
     "output_type": "stream",
     "text": [
      "https://www.youtube.com/watch?v=huDnMnoTuCE\n"
     ]
    },
    {
     "name": "stderr",
     "output_type": "stream",
     "text": [
      "\r",
      " 76%|██████████████████████████████████████████████████████████▉                   | 183/242 [1:37:56<32:08, 32.68s/it]"
     ]
    },
    {
     "name": "stdout",
     "output_type": "stream",
     "text": [
      "https://www.youtube.com/watch?v=w54b0Z9HvUA\n"
     ]
    },
    {
     "name": "stderr",
     "output_type": "stream",
     "text": [
      "\r",
      " 76%|███████████████████████████████████████████████████████████▎                  | 184/242 [1:38:30<31:54, 33.01s/it]"
     ]
    },
    {
     "name": "stdout",
     "output_type": "stream",
     "text": [
      "https://www.youtube.com/watch?v=fXRbnSWJVJY\n"
     ]
    },
    {
     "name": "stderr",
     "output_type": "stream",
     "text": [
      "\r",
      " 76%|███████████████████████████████████████████████████████████▋                  | 185/242 [1:39:05<31:52, 33.56s/it]"
     ]
    },
    {
     "name": "stdout",
     "output_type": "stream",
     "text": [
      "https://www.youtube.com/watch?v=p1vEUy_G9sw\n"
     ]
    },
    {
     "name": "stderr",
     "output_type": "stream",
     "text": [
      "\r",
      " 77%|███████████████████████████████████████████████████████████▉                  | 186/242 [1:39:35<30:23, 32.55s/it]"
     ]
    },
    {
     "name": "stdout",
     "output_type": "stream",
     "text": [
      "https://www.youtube.com/watch?v=DQuS_cZg2wI\n"
     ]
    },
    {
     "name": "stderr",
     "output_type": "stream",
     "text": [
      "\r",
      " 77%|████████████████████████████████████████████████████████████▎                 | 187/242 [1:40:08<29:47, 32.50s/it]"
     ]
    },
    {
     "name": "stdout",
     "output_type": "stream",
     "text": [
      "https://www.youtube.com/watch?v=krTHVKkUEYw\n"
     ]
    },
    {
     "name": "stderr",
     "output_type": "stream",
     "text": [
      "\r",
      " 78%|████████████████████████████████████████████████████████████▌                 | 188/242 [1:40:38<28:36, 31.79s/it]"
     ]
    },
    {
     "name": "stdout",
     "output_type": "stream",
     "text": [
      "https://www.youtube.com/watch?v=aagMarhcSww\n"
     ]
    },
    {
     "name": "stderr",
     "output_type": "stream",
     "text": [
      "\r",
      " 78%|████████████████████████████████████████████████████████████▉                 | 189/242 [1:41:09<28:01, 31.73s/it]"
     ]
    },
    {
     "name": "stdout",
     "output_type": "stream",
     "text": [
      "https://www.youtube.com/watch?v=GVECbcKUio4\n"
     ]
    },
    {
     "name": "stderr",
     "output_type": "stream",
     "text": [
      "\r",
      " 79%|█████████████████████████████████████████████████████████████▏                | 190/242 [1:41:42<27:47, 32.06s/it]"
     ]
    },
    {
     "name": "stdout",
     "output_type": "stream",
     "text": [
      "https://www.youtube.com/watch?v=ejT7oNtySbo\n"
     ]
    },
    {
     "name": "stderr",
     "output_type": "stream",
     "text": [
      "\r",
      " 79%|█████████████████████████████████████████████████████████████▌                | 191/242 [1:42:16<27:41, 32.59s/it]"
     ]
    },
    {
     "name": "stdout",
     "output_type": "stream",
     "text": [
      "https://www.youtube.com/watch?v=jcbHc7IFlzA\n"
     ]
    },
    {
     "name": "stderr",
     "output_type": "stream",
     "text": [
      "\r",
      " 79%|█████████████████████████████████████████████████████████████▉                | 192/242 [1:42:48<26:53, 32.26s/it]"
     ]
    },
    {
     "name": "stdout",
     "output_type": "stream",
     "text": [
      "https://www.youtube.com/watch?v=jo8XTr_FIlI\n"
     ]
    },
    {
     "name": "stderr",
     "output_type": "stream",
     "text": [
      "\r",
      " 80%|██████████████████████████████████████████████████████████████▏               | 193/242 [1:43:22<27:00, 33.07s/it]"
     ]
    },
    {
     "name": "stdout",
     "output_type": "stream",
     "text": [
      "https://www.youtube.com/watch?v=UBDCFrLyFbU\n"
     ]
    },
    {
     "name": "stderr",
     "output_type": "stream",
     "text": [
      "\r",
      " 80%|██████████████████████████████████████████████████████████████▌               | 194/242 [1:43:54<26:06, 32.64s/it]"
     ]
    },
    {
     "name": "stdout",
     "output_type": "stream",
     "text": [
      "https://www.youtube.com/watch?v=YOu2wMMvYKg\n"
     ]
    },
    {
     "name": "stderr",
     "output_type": "stream",
     "text": [
      "\r",
      " 81%|██████████████████████████████████████████████████████████████▊               | 195/242 [1:44:26<25:22, 32.39s/it]"
     ]
    },
    {
     "name": "stdout",
     "output_type": "stream",
     "text": [
      "https://www.youtube.com/watch?v=sHZw3G8zFfI\n"
     ]
    },
    {
     "name": "stderr",
     "output_type": "stream",
     "text": [
      "\r",
      " 81%|███████████████████████████████████████████████████████████████▏              | 196/242 [1:45:00<25:08, 32.79s/it]"
     ]
    },
    {
     "name": "stdout",
     "output_type": "stream",
     "text": [
      "https://www.youtube.com/watch?v=mAPcW_YDUKQ\n"
     ]
    },
    {
     "name": "stderr",
     "output_type": "stream",
     "text": [
      "\r",
      " 81%|███████████████████████████████████████████████████████████████▍              | 197/242 [1:45:31<24:18, 32.42s/it]"
     ]
    },
    {
     "name": "stdout",
     "output_type": "stream",
     "text": [
      "https://www.youtube.com/watch?v=Dryfm9VaEw4\n"
     ]
    },
    {
     "name": "stderr",
     "output_type": "stream",
     "text": [
      "\r",
      " 82%|███████████████████████████████████████████████████████████████▊              | 198/242 [1:46:08<24:50, 33.89s/it]"
     ]
    },
    {
     "name": "stdout",
     "output_type": "stream",
     "text": [
      "https://www.youtube.com/watch?v=QhVPWYkad6g\n"
     ]
    },
    {
     "name": "stderr",
     "output_type": "stream",
     "text": [
      "\r",
      " 82%|████████████████████████████████████████████████████████████████▏             | 199/242 [1:46:40<23:46, 33.17s/it]"
     ]
    },
    {
     "name": "stdout",
     "output_type": "stream",
     "text": [
      "https://www.youtube.com/watch?v=ispBXqC34Ak\n"
     ]
    },
    {
     "name": "stderr",
     "output_type": "stream",
     "text": [
      "\r",
      " 83%|████████████████████████████████████████████████████████████████▍             | 200/242 [1:47:14<23:20, 33.35s/it]"
     ]
    },
    {
     "name": "stdout",
     "output_type": "stream",
     "text": [
      "https://www.youtube.com/watch?v=jH1PVSY0Tyk\n"
     ]
    },
    {
     "name": "stderr",
     "output_type": "stream",
     "text": [
      "\r",
      " 83%|████████████████████████████████████████████████████████████████▊             | 201/242 [1:47:44<22:05, 32.33s/it]"
     ]
    },
    {
     "name": "stdout",
     "output_type": "stream",
     "text": [
      "https://www.youtube.com/watch?v=AL9-apISbPc\n"
     ]
    },
    {
     "name": "stderr",
     "output_type": "stream",
     "text": [
      "\r",
      " 83%|█████████████████████████████████████████████████████████████████             | 202/242 [1:48:20<22:17, 33.43s/it]"
     ]
    },
    {
     "name": "stdout",
     "output_type": "stream",
     "text": [
      "https://www.youtube.com/watch?v=8ILJ1rMBJAM\n"
     ]
    },
    {
     "name": "stderr",
     "output_type": "stream",
     "text": [
      "\r",
      " 84%|█████████████████████████████████████████████████████████████████▍            | 203/242 [1:48:53<21:46, 33.51s/it]"
     ]
    },
    {
     "name": "stdout",
     "output_type": "stream",
     "text": [
      "https://www.youtube.com/watch?v=TBB9NTkYxoM\n"
     ]
    },
    {
     "name": "stderr",
     "output_type": "stream",
     "text": [
      "\r",
      " 84%|█████████████████████████████████████████████████████████████████▊            | 204/242 [1:49:25<20:53, 32.98s/it]"
     ]
    },
    {
     "name": "stdout",
     "output_type": "stream",
     "text": [
      "https://www.youtube.com/watch?v=SiaPnnVE5UY\n"
     ]
    },
    {
     "name": "stderr",
     "output_type": "stream",
     "text": [
      "\r",
      " 85%|██████████████████████████████████████████████████████████████████            | 205/242 [1:49:55<19:43, 31.98s/it]"
     ]
    },
    {
     "name": "stdout",
     "output_type": "stream",
     "text": [
      "https://www.youtube.com/watch?v=gnFh__0Rw70\n"
     ]
    },
    {
     "name": "stderr",
     "output_type": "stream",
     "text": [
      "\r",
      " 85%|██████████████████████████████████████████████████████████████████▍           | 206/242 [1:50:28<19:28, 32.47s/it]"
     ]
    },
    {
     "name": "stdout",
     "output_type": "stream",
     "text": [
      "https://www.youtube.com/watch?v=XZhypKN51iU\n"
     ]
    },
    {
     "name": "stderr",
     "output_type": "stream",
     "text": [
      "\r",
      " 86%|██████████████████████████████████████████████████████████████████▋           | 207/242 [1:51:01<19:00, 32.58s/it]"
     ]
    },
    {
     "name": "stdout",
     "output_type": "stream",
     "text": [
      "https://www.youtube.com/watch?v=DXmF901A_oY\n"
     ]
    },
    {
     "name": "stderr",
     "output_type": "stream",
     "text": [
      "\r",
      " 86%|███████████████████████████████████████████████████████████████████           | 208/242 [1:51:34<18:25, 32.51s/it]"
     ]
    },
    {
     "name": "stdout",
     "output_type": "stream",
     "text": [
      "https://www.youtube.com/watch?v=JthXUktKLuo\n"
     ]
    },
    {
     "name": "stderr",
     "output_type": "stream",
     "text": [
      "\r",
      " 86%|███████████████████████████████████████████████████████████████████▎          | 209/242 [1:52:06<17:49, 32.40s/it]"
     ]
    },
    {
     "name": "stdout",
     "output_type": "stream",
     "text": [
      "https://www.youtube.com/watch?v=eVsbFgzK404\n"
     ]
    },
    {
     "name": "stderr",
     "output_type": "stream",
     "text": [
      "\r",
      " 87%|███████████████████████████████████████████████████████████████████▋          | 210/242 [1:52:38<17:15, 32.36s/it]"
     ]
    },
    {
     "name": "stdout",
     "output_type": "stream",
     "text": [
      "https://www.youtube.com/watch?v=oIEswlF6Fno\n"
     ]
    },
    {
     "name": "stderr",
     "output_type": "stream",
     "text": [
      "\r",
      " 87%|████████████████████████████████████████████████████████████████████          | 211/242 [1:53:12<16:57, 32.83s/it]"
     ]
    },
    {
     "name": "stdout",
     "output_type": "stream",
     "text": [
      "https://www.youtube.com/watch?v=OGQ1iWx91cY\n"
     ]
    },
    {
     "name": "stderr",
     "output_type": "stream",
     "text": [
      "\r",
      " 88%|████████████████████████████████████████████████████████████████████▎         | 212/242 [1:53:44<16:22, 32.74s/it]"
     ]
    },
    {
     "name": "stdout",
     "output_type": "stream",
     "text": [
      "https://www.youtube.com/watch?v=kr9QnYf2zK4\n"
     ]
    },
    {
     "name": "stderr",
     "output_type": "stream",
     "text": [
      "\r",
      " 88%|████████████████████████████████████████████████████████████████████▋         | 213/242 [1:54:16<15:41, 32.46s/it]"
     ]
    },
    {
     "name": "stdout",
     "output_type": "stream",
     "text": [
      "https://www.youtube.com/watch?v=FUs-pzmYzaE\n"
     ]
    },
    {
     "name": "stderr",
     "output_type": "stream",
     "text": [
      "\r",
      " 88%|████████████████████████████████████████████████████████████████████▉         | 214/242 [1:54:48<15:00, 32.16s/it]"
     ]
    },
    {
     "name": "stdout",
     "output_type": "stream",
     "text": [
      "https://www.youtube.com/watch?v=RuJi1U0zdd8\n"
     ]
    },
    {
     "name": "stderr",
     "output_type": "stream",
     "text": [
      "\r",
      " 89%|█████████████████████████████████████████████████████████████████████▎        | 215/242 [1:55:19<14:24, 32.02s/it]"
     ]
    },
    {
     "name": "stdout",
     "output_type": "stream",
     "text": [
      "https://www.youtube.com/watch?v=kx7wSSZVQaE\n"
     ]
    },
    {
     "name": "stderr",
     "output_type": "stream",
     "text": [
      "\r",
      " 89%|█████████████████████████████████████████████████████████████████████▌        | 216/242 [1:55:51<13:50, 31.92s/it]"
     ]
    },
    {
     "name": "stdout",
     "output_type": "stream",
     "text": [
      "https://www.youtube.com/watch?v=BNboXcQGrH4\n"
     ]
    },
    {
     "name": "stderr",
     "output_type": "stream",
     "text": [
      "\r",
      " 90%|█████████████████████████████████████████████████████████████████████▉        | 217/242 [1:56:23<13:14, 31.76s/it]"
     ]
    },
    {
     "name": "stdout",
     "output_type": "stream",
     "text": [
      "https://www.youtube.com/watch?v=DLIHRyBiLBs\n"
     ]
    },
    {
     "name": "stderr",
     "output_type": "stream",
     "text": [
      "\r",
      " 90%|██████████████████████████████████████████████████████████████████████▎       | 218/242 [1:56:54<12:42, 31.75s/it]"
     ]
    },
    {
     "name": "stdout",
     "output_type": "stream",
     "text": [
      "https://www.youtube.com/watch?v=UiQllA4e2jg\n"
     ]
    },
    {
     "name": "stderr",
     "output_type": "stream",
     "text": [
      "\r",
      " 90%|██████████████████████████████████████████████████████████████████████▌       | 219/242 [1:57:26<12:12, 31.83s/it]"
     ]
    },
    {
     "name": "stdout",
     "output_type": "stream",
     "text": [
      "https://www.youtube.com/watch?v=yn7Sm8aoxYo\n"
     ]
    },
    {
     "name": "stderr",
     "output_type": "stream",
     "text": [
      "\r",
      " 91%|██████████████████████████████████████████████████████████████████████▉       | 220/242 [1:57:58<11:40, 31.86s/it]"
     ]
    },
    {
     "name": "stdout",
     "output_type": "stream",
     "text": [
      "https://www.youtube.com/watch?v=HGxZRuBPzF8\n"
     ]
    },
    {
     "name": "stderr",
     "output_type": "stream",
     "text": [
      "\r",
      " 91%|███████████████████████████████████████████████████████████████████████▏      | 221/242 [1:58:30<11:08, 31.85s/it]"
     ]
    },
    {
     "name": "stdout",
     "output_type": "stream",
     "text": [
      "https://www.youtube.com/watch?v=1JEscmiuiSo\n"
     ]
    },
    {
     "name": "stderr",
     "output_type": "stream",
     "text": [
      "\r",
      " 92%|███████████████████████████████████████████████████████████████████████▌      | 222/242 [1:59:02<10:34, 31.74s/it]"
     ]
    },
    {
     "name": "stdout",
     "output_type": "stream",
     "text": [
      "https://www.youtube.com/watch?v=dHSU5QS_MW4\n"
     ]
    },
    {
     "name": "stderr",
     "output_type": "stream",
     "text": [
      "\r",
      " 92%|███████████████████████████████████████████████████████████████████████▉      | 223/242 [1:59:33<10:04, 31.79s/it]"
     ]
    },
    {
     "name": "stdout",
     "output_type": "stream",
     "text": [
      "https://www.youtube.com/watch?v=22uJMgOxw3o\n"
     ]
    },
    {
     "name": "stderr",
     "output_type": "stream",
     "text": [
      "\r",
      " 93%|████████████████████████████████████████████████████████████████████████▏     | 224/242 [2:00:05<09:31, 31.77s/it]"
     ]
    },
    {
     "name": "stdout",
     "output_type": "stream",
     "text": [
      "https://www.youtube.com/watch?v=mJgrX0woJ1g\n"
     ]
    },
    {
     "name": "stderr",
     "output_type": "stream",
     "text": [
      "\r",
      " 93%|████████████████████████████████████████████████████████████████████████▌     | 225/242 [2:00:36<08:57, 31.62s/it]"
     ]
    },
    {
     "name": "stdout",
     "output_type": "stream",
     "text": [
      "https://www.youtube.com/watch?v=KWI8YNRBtso\n"
     ]
    },
    {
     "name": "stderr",
     "output_type": "stream",
     "text": [
      "\r",
      " 93%|████████████████████████████████████████████████████████████████████████▊     | 226/242 [2:01:08<08:25, 31.57s/it]"
     ]
    },
    {
     "name": "stdout",
     "output_type": "stream",
     "text": [
      "https://www.youtube.com/watch?v=p3l_NXm-4r8\n"
     ]
    },
    {
     "name": "stderr",
     "output_type": "stream",
     "text": [
      "\r",
      " 94%|█████████████████████████████████████████████████████████████████████████▏    | 227/242 [2:01:39<07:52, 31.49s/it]"
     ]
    },
    {
     "name": "stdout",
     "output_type": "stream",
     "text": [
      "https://www.youtube.com/watch?v=Id_HSzb4A40\n"
     ]
    },
    {
     "name": "stderr",
     "output_type": "stream",
     "text": [
      "\r",
      " 94%|█████████████████████████████████████████████████████████████████████████▍    | 228/242 [2:02:15<07:38, 32.78s/it]"
     ]
    },
    {
     "name": "stdout",
     "output_type": "stream",
     "text": [
      "https://www.youtube.com/watch?v=7eIWF4_FucA\n"
     ]
    },
    {
     "name": "stderr",
     "output_type": "stream",
     "text": [
      "\r",
      " 95%|█████████████████████████████████████████████████████████████████████████▊    | 229/242 [2:02:49<07:10, 33.14s/it]"
     ]
    },
    {
     "name": "stdout",
     "output_type": "stream",
     "text": [
      "https://www.youtube.com/watch?v=JCD8hnc25eU\n"
     ]
    },
    {
     "name": "stderr",
     "output_type": "stream",
     "text": [
      "\r",
      " 95%|██████████████████████████████████████████████████████████████████████████▏   | 230/242 [2:03:17<06:19, 31.59s/it]"
     ]
    },
    {
     "name": "stdout",
     "output_type": "stream",
     "text": [
      "https://www.youtube.com/watch?v=F_CfUuvpqWI\n"
     ]
    },
    {
     "name": "stderr",
     "output_type": "stream",
     "text": [
      "\r",
      " 95%|██████████████████████████████████████████████████████████████████████████▍   | 231/242 [2:03:49<05:49, 31.73s/it]"
     ]
    },
    {
     "name": "stdout",
     "output_type": "stream",
     "text": [
      "https://www.youtube.com/watch?v=mS8N0eKOD3k\n"
     ]
    },
    {
     "name": "stderr",
     "output_type": "stream",
     "text": [
      "\r",
      " 96%|██████████████████████████████████████████████████████████████████████████▊   | 232/242 [2:04:23<05:23, 32.38s/it]"
     ]
    },
    {
     "name": "stdout",
     "output_type": "stream",
     "text": [
      "https://www.youtube.com/watch?v=ch_vJ15TeI0\n"
     ]
    },
    {
     "name": "stderr",
     "output_type": "stream",
     "text": [
      "\r",
      " 96%|███████████████████████████████████████████████████████████████████████████   | 233/242 [2:04:57<04:55, 32.85s/it]"
     ]
    },
    {
     "name": "stdout",
     "output_type": "stream",
     "text": [
      "https://www.youtube.com/watch?v=MAu1fPqlivk\n"
     ]
    },
    {
     "name": "stderr",
     "output_type": "stream",
     "text": [
      "\r",
      " 97%|███████████████████████████████████████████████████████████████████████████▍  | 234/242 [2:05:31<04:25, 33.22s/it]"
     ]
    },
    {
     "name": "stdout",
     "output_type": "stream",
     "text": [
      "https://www.youtube.com/watch?v=5x2QxTdgKZg\n"
     ]
    },
    {
     "name": "stderr",
     "output_type": "stream",
     "text": [
      "\r",
      " 97%|███████████████████████████████████████████████████████████████████████████▋  | 235/242 [2:06:03<03:49, 32.83s/it]"
     ]
    },
    {
     "name": "stdout",
     "output_type": "stream",
     "text": [
      "https://www.youtube.com/watch?v=fQITiqnjfWI\n"
     ]
    },
    {
     "name": "stderr",
     "output_type": "stream",
     "text": [
      "\r",
      " 98%|████████████████████████████████████████████████████████████████████████████  | 236/242 [2:06:34<03:14, 32.43s/it]"
     ]
    },
    {
     "name": "stdout",
     "output_type": "stream",
     "text": [
      "https://www.youtube.com/watch?v=z-vgp6S6CyY\n"
     ]
    },
    {
     "name": "stderr",
     "output_type": "stream",
     "text": [
      "\r",
      " 98%|████████████████████████████████████████████████████████████████████████████▍ | 237/242 [2:07:08<02:44, 32.86s/it]"
     ]
    },
    {
     "name": "stdout",
     "output_type": "stream",
     "text": [
      "https://www.youtube.com/watch?v=lZyn8VTsBtE\n"
     ]
    },
    {
     "name": "stderr",
     "output_type": "stream",
     "text": [
      "\r",
      " 98%|████████████████████████████████████████████████████████████████████████████▋ | 238/242 [2:07:38<02:07, 31.81s/it]"
     ]
    },
    {
     "name": "stdout",
     "output_type": "stream",
     "text": [
      "https://www.youtube.com/watch?v=4aUpyG2zon4\n"
     ]
    },
    {
     "name": "stderr",
     "output_type": "stream",
     "text": [
      "\r",
      " 99%|█████████████████████████████████████████████████████████████████████████████ | 239/242 [2:08:11<01:36, 32.24s/it]"
     ]
    },
    {
     "name": "stdout",
     "output_type": "stream",
     "text": [
      "https://www.youtube.com/watch?v=SZvAGsTCWcQ\n"
     ]
    },
    {
     "name": "stderr",
     "output_type": "stream",
     "text": [
      "\r",
      " 99%|█████████████████████████████████████████████████████████████████████████████▎| 240/242 [2:08:44<01:05, 32.68s/it]"
     ]
    },
    {
     "name": "stdout",
     "output_type": "stream",
     "text": [
      "https://www.youtube.com/watch?v=aX6v1Vgv5Rc\n"
     ]
    }
   ],
   "source": [
    "links1=[]\n",
    "video_num=[]\n",
    "username_list=[]\n",
    "comment_list=[]\n",
    "title_list=[]\n",
    "views_list=[]\n",
    "like_list=[]\n",
    "dislike_list=[]\n",
    "date_published_list=[]\n",
    "#for utl in tqdm(range((len(links)))):\n",
    "for utl in tqdm(range(len(links))):\n",
    "    print(links[utl])\n",
    "    try:\n",
    "        driver = webdriver.Firefox(executable_path=r'geckodriver.exe')\n",
    "        driver.wait = WebDriverWait(driver, 5)\n",
    "        driver.maximize_window()\n",
    "        driver.get(links[utl])\n",
    "        driver.execute_script(\"window.scrollTo(0, document.body.scrollHeight);\")\n",
    "        time.sleep(7)\n",
    "        height = driver.execute_script(\"return document.documentElement.scrollHeight\")\n",
    "        lastheight = 0\n",
    "        while True:\n",
    "            if lastheight == height:\n",
    "                break\n",
    "            lastheight = height\n",
    "            driver.execute_script(\"window.scrollTo(0, \" + str(height) + \");\")\n",
    "            time.sleep(2)\n",
    "            height = driver.execute_script(\"return document.documentElement.scrollHeight\")\n",
    "        soup = BeautifulSoup(driver.page_source, \"html\")\n",
    "        title=soup.find(\"meta\", itemprop=\"name\")['content']\n",
    "        #print('title',title)\n",
    "        views=soup.find(\"meta\", itemprop=\"interactionCount\")['content']\n",
    "        #print('views',views)\n",
    "        \n",
    "        date_published = soup.find(\"meta\", itemprop=\"datePublished\")['content']\n",
    "        #print('date_published',date_published)\n",
    "\n",
    "        \n",
    "        text_yt_formatted_strings = soup.find_all(\"yt-formatted-string\", {\"id\": \"text\", \"class\": \"ytd-toggle-button-renderer\"})\n",
    "        likee = ''.join([ c for c in text_yt_formatted_strings[0].attrs.get(\"aria-label\") if c.isdigit() ])\n",
    "\n",
    "        likee = 0 if likee == '' else int(likee)\n",
    "        #print('likee',likee)\n",
    "        comment_finder=driver.find_element_by_xpath('//*[@id=\"comments\"]')\n",
    "       # print(\"comment_finder\",comment_finder)\n",
    "        driver.execute_script(\"arguments[0].scrollIntoView();\",comment_finder)\n",
    "        time.sleep(10)\n",
    "        usernames=driver.find_elements_by_xpath('//*[@id=\"author-text\"]')\n",
    "        comments=driver.find_elements_by_xpath('//*[@id=\"content-text\"]')\n",
    "        \n",
    "        \n",
    "        video_num.append(utl+1)\n",
    "        #print(video_num)\n",
    "        \n",
    "        title_list.append(title)\n",
    "        views_list.append(views)\n",
    "        like_list.append(likee)\n",
    "        date_published_list.append(date_published)\n",
    "      \n",
    "        for username, comment in zip(usernames, comments):\n",
    "            video_num.append(utl+1)\n",
    "            title_list.append(title)\n",
    "            views_list.append(views)\n",
    "            like_list.append(likee)\n",
    "            date_published_list.append(date_published)\n",
    "            username_list.append(username.text)\n",
    "            comment_list.append(comment.text)\n",
    "\n",
    "        driver.close()\n",
    "    except:\n",
    "        driver.close()\n"
   ]
  },
  {
   "cell_type": "code",
   "execution_count": null,
   "id": "a244c923",
   "metadata": {},
   "outputs": [],
   "source": [
    "df = pd.DataFrame([video_num,title_list,date_published_list,views_list,like_list,username_list,comment_list]).transpose()\n",
    "df.columns = ['Video Number','Title','Date Published','Views','Likes','Auther','Comment']\n"
   ]
  },
  {
   "cell_type": "code",
   "execution_count": null,
   "id": "58ad0886",
   "metadata": {
    "scrolled": false
   },
   "outputs": [],
   "source": [
    "df"
   ]
  },
  {
   "cell_type": "code",
   "execution_count": null,
   "id": "fbc5759f",
   "metadata": {},
   "outputs": [],
   "source": [
    "df.to_csv(\"youtube_list.csv\")"
   ]
  },
  {
   "cell_type": "code",
   "execution_count": null,
   "id": "3c5a43cd",
   "metadata": {},
   "outputs": [],
   "source": [
    "df['Auther'].value_counts()"
   ]
  },
  {
   "cell_type": "code",
   "execution_count": null,
   "id": "98021fb1",
   "metadata": {},
   "outputs": [],
   "source": [
    "df.to_csv(\"youtube_comm.csv\")"
   ]
  },
  {
   "cell_type": "code",
   "execution_count": null,
   "id": "bf6a61ac",
   "metadata": {},
   "outputs": [],
   "source": []
  },
  {
   "cell_type": "code",
   "execution_count": null,
   "id": "1f9e29db",
   "metadata": {},
   "outputs": [],
   "source": []
  },
  {
   "cell_type": "code",
   "execution_count": null,
   "id": "508ca65f",
   "metadata": {},
   "outputs": [],
   "source": []
  },
  {
   "cell_type": "code",
   "execution_count": null,
   "id": "cf53fe01",
   "metadata": {},
   "outputs": [],
   "source": []
  },
  {
   "cell_type": "code",
   "execution_count": null,
   "id": "2d2da6a6",
   "metadata": {},
   "outputs": [],
   "source": []
  },
  {
   "cell_type": "code",
   "execution_count": null,
   "id": "5947b6ea",
   "metadata": {},
   "outputs": [],
   "source": []
  },
  {
   "cell_type": "code",
   "execution_count": null,
   "id": "86416abe",
   "metadata": {},
   "outputs": [],
   "source": []
  },
  {
   "cell_type": "code",
   "execution_count": null,
   "id": "9bde32f9",
   "metadata": {},
   "outputs": [],
   "source": []
  }
 ],
 "metadata": {
  "kernelspec": {
   "display_name": "Python 3",
   "language": "python",
   "name": "python3"
  },
  "language_info": {
   "codemirror_mode": {
    "name": "ipython",
    "version": 3
   },
   "file_extension": ".py",
   "mimetype": "text/x-python",
   "name": "python",
   "nbconvert_exporter": "python",
   "pygments_lexer": "ipython3",
   "version": "3.8.10"
  }
 },
 "nbformat": 4,
 "nbformat_minor": 5
}
